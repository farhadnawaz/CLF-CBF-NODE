{
  "cells": [
    {
      "cell_type": "markdown",
      "metadata": {
        "id": "onp9D-c70WLH"
      },
      "source": [
        "\n",
        "# Install and import libraries"
      ]
    },
    {
      "cell_type": "code",
      "execution_count": null,
      "metadata": {
        "colab": {
          "base_uri": "https://localhost:8080/"
        },
        "id": "i27UO2gCrSxv",
        "outputId": "a49a47c8-6cf6-4c96-c124-b08c190fbc6a"
      },
      "outputs": [
        {
          "output_type": "stream",
          "name": "stdout",
          "text": [
            "Collecting diffrax\n",
            "  Downloading diffrax-0.5.0-py3-none-any.whl (141 kB)\n",
            "\u001b[2K     \u001b[90m━━━━━━━━━━━━━━━━━━━━━━━━━━━━━━━━━━━━━━━━\u001b[0m \u001b[32m141.7/141.7 kB\u001b[0m \u001b[31m2.5 MB/s\u001b[0m eta \u001b[36m0:00:00\u001b[0m\n",
            "\u001b[?25hCollecting equinox>=0.11.2 (from diffrax)\n",
            "  Downloading equinox-0.11.3-py3-none-any.whl (167 kB)\n",
            "\u001b[2K     \u001b[90m━━━━━━━━━━━━━━━━━━━━━━━━━━━━━━━━━━━━━━━━\u001b[0m \u001b[32m167.9/167.9 kB\u001b[0m \u001b[31m17.7 MB/s\u001b[0m eta \u001b[36m0:00:00\u001b[0m\n",
            "\u001b[?25hRequirement already satisfied: jax>=0.4.18 in /usr/local/lib/python3.10/dist-packages (from diffrax) (0.4.23)\n",
            "Collecting jaxtyping>=0.2.24 (from diffrax)\n",
            "  Downloading jaxtyping-0.2.25-py3-none-any.whl (39 kB)\n",
            "Collecting lineax>=0.0.4 (from diffrax)\n",
            "  Downloading lineax-0.0.4-py3-none-any.whl (65 kB)\n",
            "\u001b[2K     \u001b[90m━━━━━━━━━━━━━━━━━━━━━━━━━━━━━━━━━━━━━━━━\u001b[0m \u001b[32m65.3/65.3 kB\u001b[0m \u001b[31m8.9 MB/s\u001b[0m eta \u001b[36m0:00:00\u001b[0m\n",
            "\u001b[?25hCollecting optimistix>=0.0.6 (from diffrax)\n",
            "  Downloading optimistix-0.0.6-py3-none-any.whl (89 kB)\n",
            "\u001b[2K     \u001b[90m━━━━━━━━━━━━━━━━━━━━━━━━━━━━━━━━━━━━━━━━\u001b[0m \u001b[32m89.4/89.4 kB\u001b[0m \u001b[31m10.4 MB/s\u001b[0m eta \u001b[36m0:00:00\u001b[0m\n",
            "\u001b[?25hRequirement already satisfied: typing-extensions>=4.5.0 in /usr/local/lib/python3.10/dist-packages (from diffrax) (4.9.0)\n",
            "Requirement already satisfied: ml-dtypes>=0.2.0 in /usr/local/lib/python3.10/dist-packages (from jax>=0.4.18->diffrax) (0.2.0)\n",
            "Requirement already satisfied: numpy>=1.22 in /usr/local/lib/python3.10/dist-packages (from jax>=0.4.18->diffrax) (1.25.2)\n",
            "Requirement already satisfied: opt-einsum in /usr/local/lib/python3.10/dist-packages (from jax>=0.4.18->diffrax) (3.3.0)\n",
            "Requirement already satisfied: scipy>=1.9 in /usr/local/lib/python3.10/dist-packages (from jax>=0.4.18->diffrax) (1.11.4)\n",
            "Collecting typeguard<3,>=2.13.3 (from jaxtyping>=0.2.24->diffrax)\n",
            "  Downloading typeguard-2.13.3-py3-none-any.whl (17 kB)\n",
            "Installing collected packages: typeguard, jaxtyping, equinox, lineax, optimistix, diffrax\n",
            "Successfully installed diffrax-0.5.0 equinox-0.11.3 jaxtyping-0.2.25 lineax-0.0.4 optimistix-0.0.6 typeguard-2.13.3\n"
          ]
        }
      ],
      "source": [
        "pip install diffrax"
      ]
    },
    {
      "cell_type": "code",
      "execution_count": null,
      "metadata": {
        "colab": {
          "base_uri": "https://localhost:8080/"
        },
        "id": "PMtXu0ssuflT",
        "outputId": "a4e583a7-6e52-4986-b33a-bee9aa88d5e7"
      },
      "outputs": [
        {
          "output_type": "stream",
          "name": "stdout",
          "text": [
            "Requirement already satisfied: h5py in /usr/local/lib/python3.10/dist-packages (3.9.0)\n",
            "Requirement already satisfied: typing-extensions in /usr/local/lib/python3.10/dist-packages (4.9.0)\n",
            "Requirement already satisfied: wheel in /usr/local/lib/python3.10/dist-packages (0.42.0)\n",
            "Requirement already satisfied: numpy>=1.17.3 in /usr/local/lib/python3.10/dist-packages (from h5py) (1.25.2)\n"
          ]
        }
      ],
      "source": [
        "pip install h5py typing-extensions wheel"
      ]
    },
    {
      "cell_type": "code",
      "execution_count": null,
      "metadata": {
        "colab": {
          "base_uri": "https://localhost:8080/"
        },
        "id": "U-FpH6KIugI6",
        "outputId": "11459569-ac5b-492c-9407-21ee0fbefff4"
      },
      "outputs": [
        {
          "output_type": "stream",
          "name": "stdout",
          "text": [
            "Requirement already satisfied: scipy in /usr/local/lib/python3.10/dist-packages (1.11.4)\n",
            "Requirement already satisfied: cvxpy in /usr/local/lib/python3.10/dist-packages (1.3.3)\n",
            "Collecting bagpy\n",
            "  Downloading bagpy-0.5-py2.py3-none-any.whl (14 kB)\n",
            "Collecting pyquaternion\n",
            "  Downloading pyquaternion-0.9.9-py3-none-any.whl (14 kB)\n",
            "Requirement already satisfied: numpy<1.28.0,>=1.21.6 in /usr/local/lib/python3.10/dist-packages (from scipy) (1.25.2)\n",
            "Requirement already satisfied: osqp>=0.4.1 in /usr/local/lib/python3.10/dist-packages (from cvxpy) (0.6.2.post8)\n",
            "Requirement already satisfied: ecos>=2 in /usr/local/lib/python3.10/dist-packages (from cvxpy) (2.0.13)\n",
            "Requirement already satisfied: scs>=1.1.6 in /usr/local/lib/python3.10/dist-packages (from cvxpy) (3.2.4.post1)\n",
            "Requirement already satisfied: setuptools>65.5.1 in /usr/local/lib/python3.10/dist-packages (from cvxpy) (67.7.2)\n",
            "Collecting pyserial (from bagpy)\n",
            "  Downloading pyserial-3.5-py2.py3-none-any.whl (90 kB)\n",
            "\u001b[2K     \u001b[90m━━━━━━━━━━━━━━━━━━━━━━━━━━━━━━━━━━━━━━━━\u001b[0m \u001b[32m90.6/90.6 kB\u001b[0m \u001b[31m449.6 kB/s\u001b[0m eta \u001b[36m0:00:00\u001b[0m\n",
            "\u001b[?25hCollecting bitstring (from bagpy)\n",
            "  Downloading bitstring-4.1.4-py3-none-any.whl (60 kB)\n",
            "\u001b[2K     \u001b[90m━━━━━━━━━━━━━━━━━━━━━━━━━━━━━━━━━━━━━━━━\u001b[0m \u001b[32m61.0/61.0 kB\u001b[0m \u001b[31m2.2 MB/s\u001b[0m eta \u001b[36m0:00:00\u001b[0m\n",
            "\u001b[?25hCollecting pycryptodomex (from bagpy)\n",
            "  Downloading pycryptodomex-3.20.0-cp35-abi3-manylinux_2_17_x86_64.manylinux2014_x86_64.whl (2.1 MB)\n",
            "\u001b[2K     \u001b[90m━━━━━━━━━━━━━━━━━━━━━━━━━━━━━━━━━━━━━━━━\u001b[0m \u001b[32m2.1/2.1 MB\u001b[0m \u001b[31m19.5 MB/s\u001b[0m eta \u001b[36m0:00:00\u001b[0m\n",
            "\u001b[?25hRequirement already satisfied: pyyaml in /usr/local/lib/python3.10/dist-packages (from bagpy) (6.0.1)\n",
            "Collecting rospkg (from bagpy)\n",
            "  Downloading rospkg-1.5.0-py3-none-any.whl (36 kB)\n",
            "Requirement already satisfied: ipython in /usr/local/lib/python3.10/dist-packages (from bagpy) (7.34.0)\n",
            "Collecting py3rosmsgs (from bagpy)\n",
            "  Downloading py3rosmsgs-1.18.2-py2.py3-none-any.whl (1.1 MB)\n",
            "\u001b[2K     \u001b[90m━━━━━━━━━━━━━━━━━━━━━━━━━━━━━━━━━━━━━━━━\u001b[0m \u001b[32m1.1/1.1 MB\u001b[0m \u001b[31m20.7 MB/s\u001b[0m eta \u001b[36m0:00:00\u001b[0m\n",
            "\u001b[?25hCollecting jinja2<3.1 (from bagpy)\n",
            "  Downloading Jinja2-3.0.3-py3-none-any.whl (133 kB)\n",
            "\u001b[2K     \u001b[90m━━━━━━━━━━━━━━━━━━━━━━━━━━━━━━━━━━━━━━━━\u001b[0m \u001b[32m133.6/133.6 kB\u001b[0m \u001b[31m14.2 MB/s\u001b[0m eta \u001b[36m0:00:00\u001b[0m\n",
            "\u001b[?25hRequirement already satisfied: pytest in /usr/local/lib/python3.10/dist-packages (from bagpy) (7.4.4)\n",
            "Requirement already satisfied: pandas in /usr/local/lib/python3.10/dist-packages (from bagpy) (1.5.3)\n",
            "Collecting setuptools-scm (from bagpy)\n",
            "  Downloading setuptools_scm-8.0.4-py3-none-any.whl (42 kB)\n",
            "\u001b[2K     \u001b[90m━━━━━━━━━━━━━━━━━━━━━━━━━━━━━━━━━━━━━━━━\u001b[0m \u001b[32m42.1/42.1 kB\u001b[0m \u001b[31m5.0 MB/s\u001b[0m eta \u001b[36m0:00:00\u001b[0m\n",
            "\u001b[?25hRequirement already satisfied: importlib-resources in /usr/local/lib/python3.10/dist-packages (from bagpy) (6.1.1)\n",
            "Requirement already satisfied: matplotlib in /usr/local/lib/python3.10/dist-packages (from bagpy) (3.7.1)\n",
            "Requirement already satisfied: seaborn>=0.9.0 in /usr/local/lib/python3.10/dist-packages (from bagpy) (0.13.1)\n",
            "Requirement already satisfied: MarkupSafe>=2.0 in /usr/local/lib/python3.10/dist-packages (from jinja2<3.1->bagpy) (2.1.5)\n",
            "Requirement already satisfied: qdldl in /usr/local/lib/python3.10/dist-packages (from osqp>=0.4.1->cvxpy) (0.1.7.post0)\n",
            "Requirement already satisfied: contourpy>=1.0.1 in /usr/local/lib/python3.10/dist-packages (from matplotlib->bagpy) (1.2.0)\n",
            "Requirement already satisfied: cycler>=0.10 in /usr/local/lib/python3.10/dist-packages (from matplotlib->bagpy) (0.12.1)\n",
            "Requirement already satisfied: fonttools>=4.22.0 in /usr/local/lib/python3.10/dist-packages (from matplotlib->bagpy) (4.49.0)\n",
            "Requirement already satisfied: kiwisolver>=1.0.1 in /usr/local/lib/python3.10/dist-packages (from matplotlib->bagpy) (1.4.5)\n",
            "Requirement already satisfied: packaging>=20.0 in /usr/local/lib/python3.10/dist-packages (from matplotlib->bagpy) (23.2)\n",
            "Requirement already satisfied: pillow>=6.2.0 in /usr/local/lib/python3.10/dist-packages (from matplotlib->bagpy) (9.4.0)\n",
            "Requirement already satisfied: pyparsing>=2.3.1 in /usr/local/lib/python3.10/dist-packages (from matplotlib->bagpy) (3.1.1)\n",
            "Requirement already satisfied: python-dateutil>=2.7 in /usr/local/lib/python3.10/dist-packages (from matplotlib->bagpy) (2.8.2)\n",
            "Requirement already satisfied: pytz>=2020.1 in /usr/local/lib/python3.10/dist-packages (from pandas->bagpy) (2023.4)\n",
            "Collecting bitarray<3.0.0,>=2.8.0 (from bitstring->bagpy)\n",
            "  Downloading bitarray-2.9.2-cp310-cp310-manylinux_2_17_x86_64.manylinux2014_x86_64.whl (288 kB)\n",
            "\u001b[2K     \u001b[90m━━━━━━━━━━━━━━━━━━━━━━━━━━━━━━━━━━━━━━━━\u001b[0m \u001b[32m288.3/288.3 kB\u001b[0m \u001b[31m27.5 MB/s\u001b[0m eta \u001b[36m0:00:00\u001b[0m\n",
            "\u001b[?25hCollecting jedi>=0.16 (from ipython->bagpy)\n",
            "  Downloading jedi-0.19.1-py2.py3-none-any.whl (1.6 MB)\n",
            "\u001b[2K     \u001b[90m━━━━━━━━━━━━━━━━━━━━━━━━━━━━━━━━━━━━━━━━\u001b[0m \u001b[32m1.6/1.6 MB\u001b[0m \u001b[31m60.6 MB/s\u001b[0m eta \u001b[36m0:00:00\u001b[0m\n",
            "\u001b[?25hRequirement already satisfied: decorator in /usr/local/lib/python3.10/dist-packages (from ipython->bagpy) (4.4.2)\n",
            "Requirement already satisfied: pickleshare in /usr/local/lib/python3.10/dist-packages (from ipython->bagpy) (0.7.5)\n",
            "Requirement already satisfied: traitlets>=4.2 in /usr/local/lib/python3.10/dist-packages (from ipython->bagpy) (5.7.1)\n",
            "Requirement already satisfied: prompt-toolkit!=3.0.0,!=3.0.1,<3.1.0,>=2.0.0 in /usr/local/lib/python3.10/dist-packages (from ipython->bagpy) (3.0.43)\n",
            "Requirement already satisfied: pygments in /usr/local/lib/python3.10/dist-packages (from ipython->bagpy) (2.16.1)\n",
            "Requirement already satisfied: backcall in /usr/local/lib/python3.10/dist-packages (from ipython->bagpy) (0.2.0)\n",
            "Requirement already satisfied: matplotlib-inline in /usr/local/lib/python3.10/dist-packages (from ipython->bagpy) (0.1.6)\n",
            "Requirement already satisfied: pexpect>4.3 in /usr/local/lib/python3.10/dist-packages (from ipython->bagpy) (4.9.0)\n",
            "Collecting gnupg (from py3rosmsgs->bagpy)\n",
            "  Downloading gnupg-2.3.1.tar.gz (100 kB)\n",
            "\u001b[2K     \u001b[90m━━━━━━━━━━━━━━━━━━━━━━━━━━━━━━━━━━━━━━━━\u001b[0m \u001b[32m100.4/100.4 kB\u001b[0m \u001b[31m7.1 MB/s\u001b[0m eta \u001b[36m0:00:00\u001b[0m\n",
            "\u001b[?25h  Preparing metadata (setup.py) ... \u001b[?25l\u001b[?25hdone\n",
            "Requirement already satisfied: iniconfig in /usr/local/lib/python3.10/dist-packages (from pytest->bagpy) (2.0.0)\n",
            "Requirement already satisfied: pluggy<2.0,>=0.12 in /usr/local/lib/python3.10/dist-packages (from pytest->bagpy) (1.4.0)\n",
            "Requirement already satisfied: exceptiongroup>=1.0.0rc8 in /usr/local/lib/python3.10/dist-packages (from pytest->bagpy) (1.2.0)\n",
            "Requirement already satisfied: tomli>=1.0.0 in /usr/local/lib/python3.10/dist-packages (from pytest->bagpy) (2.0.1)\n",
            "Collecting catkin-pkg (from rospkg->bagpy)\n",
            "  Downloading catkin_pkg-1.0.0-py3-none-any.whl (75 kB)\n",
            "\u001b[2K     \u001b[90m━━━━━━━━━━━━━━━━━━━━━━━━━━━━━━━━━━━━━━━━\u001b[0m \u001b[32m76.0/76.0 kB\u001b[0m \u001b[31m9.1 MB/s\u001b[0m eta \u001b[36m0:00:00\u001b[0m\n",
            "\u001b[?25hRequirement already satisfied: distro>=1.4.0 in /usr/lib/python3/dist-packages (from rospkg->bagpy) (1.7.0)\n",
            "Requirement already satisfied: typing-extensions in /usr/local/lib/python3.10/dist-packages (from setuptools-scm->bagpy) (4.9.0)\n",
            "Requirement already satisfied: parso<0.9.0,>=0.8.3 in /usr/local/lib/python3.10/dist-packages (from jedi>=0.16->ipython->bagpy) (0.8.3)\n",
            "Requirement already satisfied: ptyprocess>=0.5 in /usr/local/lib/python3.10/dist-packages (from pexpect>4.3->ipython->bagpy) (0.7.0)\n",
            "Requirement already satisfied: wcwidth in /usr/local/lib/python3.10/dist-packages (from prompt-toolkit!=3.0.0,!=3.0.1,<3.1.0,>=2.0.0->ipython->bagpy) (0.2.13)\n",
            "Requirement already satisfied: six>=1.5 in /usr/local/lib/python3.10/dist-packages (from python-dateutil>=2.7->matplotlib->bagpy) (1.16.0)\n",
            "Requirement already satisfied: docutils in /usr/local/lib/python3.10/dist-packages (from catkin-pkg->rospkg->bagpy) (0.18.1)\n",
            "Requirement already satisfied: psutil>=1.2.1 in /usr/local/lib/python3.10/dist-packages (from gnupg->py3rosmsgs->bagpy) (5.9.5)\n",
            "Building wheels for collected packages: gnupg\n",
            "  Building wheel for gnupg (setup.py) ... \u001b[?25l\u001b[?25hdone\n",
            "  Created wheel for gnupg: filename=gnupg-2.3.1-py3-none-any.whl size=94617 sha256=4c94199924af8cb6965ba1d06c7e3ea9b1e3964ec9f1ff2f5ac2324d17a5ff87\n",
            "  Stored in directory: /root/.cache/pip/wheels/96/12/15/82eadc149bbdb08063f4ce8b1b3971cc5d0e442707368f995f\n",
            "Successfully built gnupg\n",
            "Installing collected packages: pyserial, bitarray, setuptools-scm, pyquaternion, pycryptodomex, jinja2, jedi, gnupg, bitstring, py3rosmsgs, catkin-pkg, rospkg, bagpy\n",
            "  Attempting uninstall: jinja2\n",
            "    Found existing installation: Jinja2 3.1.3\n",
            "    Uninstalling Jinja2-3.1.3:\n",
            "      Successfully uninstalled Jinja2-3.1.3\n",
            "Successfully installed bagpy-0.5 bitarray-2.9.2 bitstring-4.1.4 catkin-pkg-1.0.0 gnupg-2.3.1 jedi-0.19.1 jinja2-3.0.3 py3rosmsgs-1.18.2 pycryptodomex-3.20.0 pyquaternion-0.9.9 pyserial-3.5 rospkg-1.5.0 setuptools-scm-8.0.4\n"
          ]
        }
      ],
      "source": [
        "pip install scipy cvxpy bagpy pyquaternion"
      ]
    },
    {
      "cell_type": "code",
      "execution_count": null,
      "metadata": {
        "id": "glXLTtQRThTG"
      },
      "outputs": [],
      "source": [
        "# !sudo apt install cm-super dvipng texlive-latex-extra texlive-latex-recommended"
      ]
    },
    {
      "cell_type": "code",
      "execution_count": null,
      "metadata": {
        "colab": {
          "base_uri": "https://localhost:8080/"
        },
        "id": "Ro18DwOjcQMB",
        "outputId": "e593bc76-0954-4bc6-b5e9-89fbb1f284e4"
      },
      "outputs": [
        {
          "output_type": "stream",
          "name": "stdout",
          "text": [
            "Mounted at /content/drive\n"
          ]
        }
      ],
      "source": [
        "from google.colab import drive\n",
        "drive.mount('/content/drive')"
      ]
    },
    {
      "cell_type": "code",
      "execution_count": null,
      "metadata": {
        "id": "276cbbe5-dac1-4814-807c-e50cc633b11a"
      },
      "outputs": [],
      "source": [
        "import time\n",
        "\n",
        "import diffrax\n",
        "import equinox as eqx  # https://github.com/patrick-kidger/equinox\n",
        "import jax\n",
        "import jax.nn as jnn\n",
        "import jax.numpy as jnp\n",
        "import jax.random as jrandom\n",
        "import matplotlib.pyplot as plt\n",
        "import optax  # https://github.com/deepmind/optax\n",
        "from sklearn.preprocessing import MinMaxScaler\n",
        "from scipy import interpolate\n",
        "\n",
        "# import equinox.experimental as eqxe\n",
        "import jax.tree_util as jtu\n",
        "import functools as ft\n",
        "\n",
        "import cvxpy as cp\n",
        "\n",
        "import plotly.graph_objects as go\n",
        "\n",
        "import numpy as np\n",
        "from matplotlib.lines import Line2D\n",
        "import matplotlib.pyplot as plt\n",
        "import plotly.graph_objects as go\n",
        "from numpy import savetxt"
      ]
    },
    {
      "cell_type": "markdown",
      "metadata": {
        "id": "e8-tsHBE0cyY"
      },
      "source": [
        "# Read and plot the demo fron a .npy file"
      ]
    },
    {
      "cell_type": "code",
      "execution_count": null,
      "metadata": {
        "colab": {
          "base_uri": "https://localhost:8080/",
          "height": 542
        },
        "id": "-GndQpT2Z0K2",
        "outputId": "5d5e8a94-2ab2-4c9f-9895-7512c3483ce7"
      },
      "outputs": [
        {
          "output_type": "display_data",
          "data": {
            "text/html": [
              "<html>\n",
              "<head><meta charset=\"utf-8\" /></head>\n",
              "<body>\n",
              "    <div>            <script src=\"https://cdnjs.cloudflare.com/ajax/libs/mathjax/2.7.5/MathJax.js?config=TeX-AMS-MML_SVG\"></script><script type=\"text/javascript\">if (window.MathJax && window.MathJax.Hub && window.MathJax.Hub.Config) {window.MathJax.Hub.Config({SVG: {font: \"STIX-Web\"}});}</script>                <script type=\"text/javascript\">window.PlotlyConfig = {MathJaxConfig: 'local'};</script>\n",
              "        <script charset=\"utf-8\" src=\"https://cdn.plot.ly/plotly-2.24.1.min.js\"></script>                <div id=\"7e3738c3-6b91-43f5-a563-fab1244e5ff1\" class=\"plotly-graph-div\" style=\"height:525px; width:100%;\"></div>            <script type=\"text/javascript\">                                    window.PLOTLYENV=window.PLOTLYENV || {};                                    if (document.getElementById(\"7e3738c3-6b91-43f5-a563-fab1244e5ff1\")) {                    Plotly.newPlot(                        \"7e3738c3-6b91-43f5-a563-fab1244e5ff1\",                        [{\"line\":{\"color\":\"gray\",\"width\":4},\"mode\":\"lines\",\"x\":[0.26848486065864563,0.26799437403678894,0.267417848110199,0.26594242453575134,0.26482006907463074,0.26449161767959595,0.2646532356739044,0.26473331451416016,0.26501694321632385,0.26569777727127075,0.26603925228118896,0.26616978645324707,0.2658727169036865,0.2658911645412445,0.2662363350391388,0.26670369505882263,0.2669648230075836,0.2669077515602112,0.2670022249221802,0.2670069932937622,0.2669639587402344,0.26718631386756897,0.2672748267650604,0.26794904470443726,0.26882198452949524,0.2700357437133789,0.27125704288482666,0.27249768376350403,0.2736184597015381,0.274962455034256,0.2761005163192749,0.2774605453014374,0.27863991260528564,0.27970775961875916,0.28054580092430115,0.28167206048965454,0.2830946743488312,0.28439265489578247,0.28558340668678284,0.2859894931316376,0.2864261269569397,0.2864770293235779,0.28666257858276367,0.2867935597896576,0.2869205176830292,0.2881251871585846,0.2902752757072449,0.2929399907588959,0.2957255244255066,0.2990020513534546,0.30317872762680054,0.3083084225654602,0.3151428997516632,0.322349488735199,0.32900139689445496,0.3350115418434143,0.3397938311100006,0.34417545795440674,0.34862273931503296,0.3529910743236542,0.35735130310058594,0.3610253632068634,0.364233136177063,0.36731570959091187,0.37040841579437256,0.37345972657203674,0.3762225806713104,0.37857162952423096,0.3810538649559021,0.38417521119117737,0.38767844438552856,0.39128562808036804,0.39485347270965576,0.39850717782974243,0.40214118361473083,0.4062369465827942,0.41024982929229736,0.4142364263534546,0.41801366209983826,0.4226328134536743,0.42841893434524536,0.4339389204978943,0.43847936391830444,0.4424639940261841,0.44687142968177795,0.4520028829574585,0.45738741755485535,0.4625869691371918,0.4675392806529999,0.4719374477863312,0.4761022925376892,0.48013758659362793,0.4840161204338074,0.48754099011421204,0.49081557989120483,0.49378740787506104,0.49638476967811584,0.4988251328468323,0.5013272762298584,0.504178524017334,0.507040798664093,0.5097717642784119,0.5122862458229065,0.515208899974823,0.5190488696098328,0.5235608816146851,0.5284357070922852,0.5330069661140442,0.5379836559295654,0.5433716177940369,0.5492615103721619,0.555720865726471,0.5620714426040649,0.5677680373191833,0.5726373195648193,0.576734721660614,0.5798683166503906,0.5821787118911743,0.5846378207206726,0.586785078048706,0.5890699028968811,0.5914825797080994,0.5944667458534241,0.5972393155097961,0.6000447869300842,0.602421760559082,0.6043388247489929,0.6057025790214539,0.6069634556770325,0.6083099246025085,0.6094129681587219,0.6107128858566284,0.6117017865180969,0.6126945614814758,0.6139370799064636,0.6145924925804138,0.6153921484947205,0.6154823899269104,0.6154124140739441,0.6148035526275635,0.6136127710342407,0.6118893623352051,0.6096442937850952,0.6070788502693176,0.6040623784065247,0.601327121257782,0.6002185940742493,0.5992924571037292,0.5977596640586853,0.5959085822105408,0.5939382314682007,0.5930296182632446,0.5925270318984985,0.5922094583511353,0.592177152633667,0.5920493006706238,0.5910850167274475,0.5893802046775818,0.5871586203575134,0.5844654440879822,0.5813860297203064,0.5776903629302979,0.5733717679977417,0.568999171257019,0.5635885000228882,0.5569508075714111,0.549132764339447,0.5400059223175049,0.5291963219642639,0.5179025530815125,0.5052529573440552,0.4913889467716217,0.476703941822052,0.46115630865097046,0.44517797231674194,0.4297696650028229,0.4147037863731384,0.40038856863975525,0.3866415023803711,0.3740929365158081,0.3623296022415161,0.35099199414253235,0.3409745693206787,0.331866592168808,0.32395365834236145,0.31636983156204224,0.30922332406044006,0.30226972699165344,0.2965884208679199,0.2919590175151825,0.28874558210372925,0.2865702211856842,0.28509292006492615,0.28344613313674927,0.2813475430011749,0.27964937686920166,0.27812278270721436,0.2766990065574646,0.2755845785140991,0.2746637463569641],\"y\":[-0.4816107153892517,-0.481313019990921,-0.48088517785072327,-0.4800697863101959,-0.47934970259666443,-0.47803884744644165,-0.47692665457725525,-0.4756777882575989,-0.4741247892379761,-0.4709763824939728,-0.46666717529296875,-0.4617074131965637,-0.45588865876197815,-0.4491007924079895,-0.4405948519706726,-0.4307827949523926,-0.4205765724182129,-0.4100262522697449,-0.39999088644981384,-0.38996413350105286,-0.3798755407333374,-0.36889150738716125,-0.35748764872550964,-0.34580573439598083,-0.3336537480354309,-0.32167479395866394,-0.3095049560070038,-0.29739508032798767,-0.2849338948726654,-0.27203401923179626,-0.25824013352394104,-0.24465660750865936,-0.23133061826229095,-0.2198239415884018,-0.2093365490436554,-0.1989099085330963,-0.1882554441690445,-0.1773851215839386,-0.16696743667125702,-0.15699779987335205,-0.14793947339057922,-0.13939452171325684,-0.13128288090229034,-0.12303365021944046,-0.11401116102933884,-0.10489808768033981,-0.09656819701194763,-0.0897965356707573,-0.08441976457834244,-0.08065596967935562,-0.07873550057411194,-0.07821574062108994,-0.07900168001651764,-0.08114581555128098,-0.08436314016580582,-0.08856776356697083,-0.09354754537343979,-0.0995292216539383,-0.10649855434894562,-0.11470729857683182,-0.1237998753786087,-0.13322368264198303,-0.143190398812294,-0.1533629596233368,-0.16401930153369904,-0.17437079548835754,-0.18397024273872375,-0.19299478828907013,-0.20112188160419464,-0.20899909734725952,-0.21709111332893372,-0.2255094349384308,-0.2345663160085678,-0.24417753517627716,-0.2536546587944031,-0.2628973722457886,-0.2712346911430359,-0.278250128030777,-0.28347399830818176,-0.2869229316711426,-0.28902721405029297,-0.28924843668937683,-0.2876085937023163,-0.2840035557746887,-0.2781573534011841,-0.27083325386047363,-0.26275527477264404,-0.2544381320476532,-0.24600765109062195,-0.2378579080104828,-0.2295709252357483,-0.22095853090286255,-0.21226876974105835,-0.20399846136569977,-0.19591058790683746,-0.18797963857650757,-0.17997588217258453,-0.17154037952423096,-0.16259434819221497,-0.1526859998703003,-0.14287012815475464,-0.1334020048379898,-0.12470664083957672,-0.11634879559278488,-0.10970935225486755,-0.10533896833658218,-0.10290894657373428,-0.10149775445461273,-0.10084689408540726,-0.10105936974287033,-0.10229143500328064,-0.1047513410449028,-0.10850310325622559,-0.11345335096120834,-0.11996777355670929,-0.12784840166568756,-0.13778218626976013,-0.1495034247636795,-0.1619776040315628,-0.1753847897052765,-0.18846528232097626,-0.2012704759836197,-0.21308396756649017,-0.22422869503498077,-0.2354937493801117,-0.2468385100364685,-0.25865113735198975,-0.2710578739643097,-0.28332820534706116,-0.2953706979751587,-0.3071027398109436,-0.31825223565101624,-0.3285543620586395,-0.3385547697544098,-0.3484703004360199,-0.35841286182403564,-0.36822107434272766,-0.37790220975875854,-0.38730016350746155,-0.39671432971954346,-0.4062148332595825,-0.41533854603767395,-0.42415085434913635,-0.43141019344329834,-0.4373483955860138,-0.440784215927124,-0.4421982169151306,-0.4437287747859955,-0.4467761814594269,-0.45090311765670776,-0.4549601674079895,-0.457845002412796,-0.4591594338417053,-0.4591839909553528,-0.4583047330379486,-0.4569234549999237,-0.4560582637786865,-0.4560887813568115,-0.4565510153770447,-0.45652636885643005,-0.4554103910923004,-0.4540363550186157,-0.45286107063293457,-0.45158496499061584,-0.4505757689476013,-0.4499032199382782,-0.44934019446372986,-0.44969677925109863,-0.451678991317749,-0.45477327704429626,-0.45806434750556946,-0.4612210690975189,-0.46418601274490356,-0.4668935537338257,-0.46932151913642883,-0.4715597927570343,-0.47331002354621887,-0.4743722975254059,-0.47537899017333984,-0.4761970341205597,-0.4768148958683014,-0.47710832953453064,-0.47657299041748047,-0.47469088435173035,-0.47224682569503784,-0.46969667077064514,-0.46791335940361023,-0.46700000762939453,-0.46762803196907043,-0.47005218267440796,-0.4739159941673279,-0.4769051969051361,-0.47760844230651855,-0.47724002599716187,-0.47734335064888,-0.4771993160247803,-0.476518839597702,-0.4763545095920563,-0.47642281651496887,-0.47596046328544617],\"z\":[0.043100226670503616,0.03911653161048889,0.035073380917310715,0.030074842274188995,0.026859594509005547,0.025341860949993134,0.025025460869073868,0.0245636198669672,0.024291744455695152,0.02415279485285282,0.02396216429769993,0.02409467287361622,0.023751331493258476,0.023745469748973846,0.023419076576828957,0.023360291495919228,0.023204056546092033,0.02295258827507496,0.023002808913588524,0.022702200338244438,0.022587303072214127,0.022437451407313347,0.0222031082957983,0.022197676822543144,0.02195894904434681,0.02202986553311348,0.02178102545440197,0.021821465343236923,0.021634362637996674,0.021671084687113762,0.02147039957344532,0.021526871249079704,0.02134096249938011,0.02135983109474182,0.02132542058825493,0.021153435111045837,0.021096136420965195,0.021047407761216164,0.021140925586223602,0.020943989977240562,0.020922554656863213,0.020827999338507652,0.02080981619656086,0.02085542120039463,0.020771337673068047,0.02079978585243225,0.020789435133337975,0.020882338285446167,0.02092619612812996,0.020881447941064835,0.02094542793929577,0.020861433818936348,0.02090325579047203,0.0208938829600811,0.020877839997410774,0.020896434783935547,0.020955512300133705,0.02103598788380623,0.020989535376429558,0.021006375551223755,0.021063240244984627,0.021090224385261536,0.02117769420146942,0.02124607563018799,0.02121187373995781,0.021334372460842133,0.021470146253705025,0.021402910351753235,0.02147579938173294,0.021636324003338814,0.021571144461631775,0.021802600473165512,0.02180556021630764,0.022024525329470634,0.021965142339468002,0.022193362936377525,0.022080687806010246,0.02227683737874031,0.022202694788575172,0.022183500230312347,0.022384213283658028,0.02230861969292164,0.022176725789904594,0.022106098011136055,0.022064117714762688,0.022016750648617744,0.022011248394846916,0.021993959322571754,0.02197903022170067,0.021950863301753998,0.021929508075118065,0.021901492029428482,0.021883346140384674,0.02186764031648636,0.021867502480745316,0.021855920553207397,0.021829860284924507,0.021813683211803436,0.02177736721932888,0.02177358791232109,0.021758968010544777,0.02178254909813404,0.021828439086675644,0.021875590085983276,0.021966535598039627,0.02194531261920929,0.022082289680838585,0.02193981595337391,0.021995175629854202,0.022041378542780876,0.021935414522886276,0.022164318710565567,0.02216680347919464,0.02228645421564579,0.022389600053429604,0.022400526329874992,0.022525794804096222,0.022359371185302734,0.022681117057800293,0.0226318147033453,0.022906644269824028,0.02274465002119541,0.022973233833909035,0.022708548232913017,0.022891221567988396,0.02267138473689556,0.022771403193473816,0.02281075157225132,0.022829987108707428,0.023080332204699516,0.02293536625802517,0.023243367671966553,0.02299841307103634,0.022975990548729897,0.02308751828968525,0.02297770045697689,0.023392578586935997,0.02317601814866066,0.023399485275149345,0.02333996444940567,0.023413177579641342,0.023363549262285233,0.023558879271149635,0.023346349596977234,0.02338128350675106,0.023576747626066208,0.0240742526948452,0.02494039200246334,0.027215920388698578,0.03259165957570076,0.04099022224545479,0.05239555984735489,0.06440174579620361,0.07684337347745895,0.08886830508708954,0.10081794857978821,0.11280211806297302,0.12550266087055206,0.13916796445846558,0.15268121659755707,0.16499939560890198,0.17551054060459137,0.1847594529390335,0.19326971471309662,0.20016662776470184,0.2057005614042282,0.21004605293273926,0.21370770037174225,0.21756815910339355,0.22162264585494995,0.22523312270641327,0.22749757766723633,0.22877854108810425,0.2293204516172409,0.22935429215431213,0.22904010117053986,0.2278318852186203,0.22507810592651367,0.2203386425971985,0.2139400690793991,0.20520243048667908,0.19457213580608368,0.18379606306552887,0.17252367734909058,0.16175654530525208,0.15104146301746368,0.140641450881958,0.13028988242149353,0.1206016018986702,0.1104610413312912,0.09992409497499466,0.08863911777734756,0.07666727155447006,0.0658106878399849,0.05795207619667053,0.05308879166841507,0.05060866102576256,0.050073519349098206,0.049759332090616226,0.04918555170297623],\"type\":\"scatter3d\"},{\"line\":{\"color\":\"red\",\"width\":1},\"mode\":\"markers\",\"x\":[0.26848486065864563],\"y\":[-0.4816107153892517],\"z\":[0.043100226670503616],\"type\":\"scatter3d\"},{\"line\":{\"color\":\"blue\",\"width\":1},\"mode\":\"markers\",\"x\":[0.2755845785140991],\"y\":[-0.47642281651496887],\"z\":[0.049759332090616226],\"type\":\"scatter3d\"}],                        {\"template\":{\"data\":{\"histogram2dcontour\":[{\"type\":\"histogram2dcontour\",\"colorbar\":{\"outlinewidth\":0,\"ticks\":\"\"},\"colorscale\":[[0.0,\"#0d0887\"],[0.1111111111111111,\"#46039f\"],[0.2222222222222222,\"#7201a8\"],[0.3333333333333333,\"#9c179e\"],[0.4444444444444444,\"#bd3786\"],[0.5555555555555556,\"#d8576b\"],[0.6666666666666666,\"#ed7953\"],[0.7777777777777778,\"#fb9f3a\"],[0.8888888888888888,\"#fdca26\"],[1.0,\"#f0f921\"]]}],\"choropleth\":[{\"type\":\"choropleth\",\"colorbar\":{\"outlinewidth\":0,\"ticks\":\"\"}}],\"histogram2d\":[{\"type\":\"histogram2d\",\"colorbar\":{\"outlinewidth\":0,\"ticks\":\"\"},\"colorscale\":[[0.0,\"#0d0887\"],[0.1111111111111111,\"#46039f\"],[0.2222222222222222,\"#7201a8\"],[0.3333333333333333,\"#9c179e\"],[0.4444444444444444,\"#bd3786\"],[0.5555555555555556,\"#d8576b\"],[0.6666666666666666,\"#ed7953\"],[0.7777777777777778,\"#fb9f3a\"],[0.8888888888888888,\"#fdca26\"],[1.0,\"#f0f921\"]]}],\"heatmap\":[{\"type\":\"heatmap\",\"colorbar\":{\"outlinewidth\":0,\"ticks\":\"\"},\"colorscale\":[[0.0,\"#0d0887\"],[0.1111111111111111,\"#46039f\"],[0.2222222222222222,\"#7201a8\"],[0.3333333333333333,\"#9c179e\"],[0.4444444444444444,\"#bd3786\"],[0.5555555555555556,\"#d8576b\"],[0.6666666666666666,\"#ed7953\"],[0.7777777777777778,\"#fb9f3a\"],[0.8888888888888888,\"#fdca26\"],[1.0,\"#f0f921\"]]}],\"heatmapgl\":[{\"type\":\"heatmapgl\",\"colorbar\":{\"outlinewidth\":0,\"ticks\":\"\"},\"colorscale\":[[0.0,\"#0d0887\"],[0.1111111111111111,\"#46039f\"],[0.2222222222222222,\"#7201a8\"],[0.3333333333333333,\"#9c179e\"],[0.4444444444444444,\"#bd3786\"],[0.5555555555555556,\"#d8576b\"],[0.6666666666666666,\"#ed7953\"],[0.7777777777777778,\"#fb9f3a\"],[0.8888888888888888,\"#fdca26\"],[1.0,\"#f0f921\"]]}],\"contourcarpet\":[{\"type\":\"contourcarpet\",\"colorbar\":{\"outlinewidth\":0,\"ticks\":\"\"}}],\"contour\":[{\"type\":\"contour\",\"colorbar\":{\"outlinewidth\":0,\"ticks\":\"\"},\"colorscale\":[[0.0,\"#0d0887\"],[0.1111111111111111,\"#46039f\"],[0.2222222222222222,\"#7201a8\"],[0.3333333333333333,\"#9c179e\"],[0.4444444444444444,\"#bd3786\"],[0.5555555555555556,\"#d8576b\"],[0.6666666666666666,\"#ed7953\"],[0.7777777777777778,\"#fb9f3a\"],[0.8888888888888888,\"#fdca26\"],[1.0,\"#f0f921\"]]}],\"surface\":[{\"type\":\"surface\",\"colorbar\":{\"outlinewidth\":0,\"ticks\":\"\"},\"colorscale\":[[0.0,\"#0d0887\"],[0.1111111111111111,\"#46039f\"],[0.2222222222222222,\"#7201a8\"],[0.3333333333333333,\"#9c179e\"],[0.4444444444444444,\"#bd3786\"],[0.5555555555555556,\"#d8576b\"],[0.6666666666666666,\"#ed7953\"],[0.7777777777777778,\"#fb9f3a\"],[0.8888888888888888,\"#fdca26\"],[1.0,\"#f0f921\"]]}],\"mesh3d\":[{\"type\":\"mesh3d\",\"colorbar\":{\"outlinewidth\":0,\"ticks\":\"\"}}],\"scatter\":[{\"fillpattern\":{\"fillmode\":\"overlay\",\"size\":10,\"solidity\":0.2},\"type\":\"scatter\"}],\"parcoords\":[{\"type\":\"parcoords\",\"line\":{\"colorbar\":{\"outlinewidth\":0,\"ticks\":\"\"}}}],\"scatterpolargl\":[{\"type\":\"scatterpolargl\",\"marker\":{\"colorbar\":{\"outlinewidth\":0,\"ticks\":\"\"}}}],\"bar\":[{\"error_x\":{\"color\":\"#2a3f5f\"},\"error_y\":{\"color\":\"#2a3f5f\"},\"marker\":{\"line\":{\"color\":\"#E5ECF6\",\"width\":0.5},\"pattern\":{\"fillmode\":\"overlay\",\"size\":10,\"solidity\":0.2}},\"type\":\"bar\"}],\"scattergeo\":[{\"type\":\"scattergeo\",\"marker\":{\"colorbar\":{\"outlinewidth\":0,\"ticks\":\"\"}}}],\"scatterpolar\":[{\"type\":\"scatterpolar\",\"marker\":{\"colorbar\":{\"outlinewidth\":0,\"ticks\":\"\"}}}],\"histogram\":[{\"marker\":{\"pattern\":{\"fillmode\":\"overlay\",\"size\":10,\"solidity\":0.2}},\"type\":\"histogram\"}],\"scattergl\":[{\"type\":\"scattergl\",\"marker\":{\"colorbar\":{\"outlinewidth\":0,\"ticks\":\"\"}}}],\"scatter3d\":[{\"type\":\"scatter3d\",\"line\":{\"colorbar\":{\"outlinewidth\":0,\"ticks\":\"\"}},\"marker\":{\"colorbar\":{\"outlinewidth\":0,\"ticks\":\"\"}}}],\"scattermapbox\":[{\"type\":\"scattermapbox\",\"marker\":{\"colorbar\":{\"outlinewidth\":0,\"ticks\":\"\"}}}],\"scatterternary\":[{\"type\":\"scatterternary\",\"marker\":{\"colorbar\":{\"outlinewidth\":0,\"ticks\":\"\"}}}],\"scattercarpet\":[{\"type\":\"scattercarpet\",\"marker\":{\"colorbar\":{\"outlinewidth\":0,\"ticks\":\"\"}}}],\"carpet\":[{\"aaxis\":{\"endlinecolor\":\"#2a3f5f\",\"gridcolor\":\"white\",\"linecolor\":\"white\",\"minorgridcolor\":\"white\",\"startlinecolor\":\"#2a3f5f\"},\"baxis\":{\"endlinecolor\":\"#2a3f5f\",\"gridcolor\":\"white\",\"linecolor\":\"white\",\"minorgridcolor\":\"white\",\"startlinecolor\":\"#2a3f5f\"},\"type\":\"carpet\"}],\"table\":[{\"cells\":{\"fill\":{\"color\":\"#EBF0F8\"},\"line\":{\"color\":\"white\"}},\"header\":{\"fill\":{\"color\":\"#C8D4E3\"},\"line\":{\"color\":\"white\"}},\"type\":\"table\"}],\"barpolar\":[{\"marker\":{\"line\":{\"color\":\"#E5ECF6\",\"width\":0.5},\"pattern\":{\"fillmode\":\"overlay\",\"size\":10,\"solidity\":0.2}},\"type\":\"barpolar\"}],\"pie\":[{\"automargin\":true,\"type\":\"pie\"}]},\"layout\":{\"autotypenumbers\":\"strict\",\"colorway\":[\"#636efa\",\"#EF553B\",\"#00cc96\",\"#ab63fa\",\"#FFA15A\",\"#19d3f3\",\"#FF6692\",\"#B6E880\",\"#FF97FF\",\"#FECB52\"],\"font\":{\"color\":\"#2a3f5f\"},\"hovermode\":\"closest\",\"hoverlabel\":{\"align\":\"left\"},\"paper_bgcolor\":\"white\",\"plot_bgcolor\":\"#E5ECF6\",\"polar\":{\"bgcolor\":\"#E5ECF6\",\"angularaxis\":{\"gridcolor\":\"white\",\"linecolor\":\"white\",\"ticks\":\"\"},\"radialaxis\":{\"gridcolor\":\"white\",\"linecolor\":\"white\",\"ticks\":\"\"}},\"ternary\":{\"bgcolor\":\"#E5ECF6\",\"aaxis\":{\"gridcolor\":\"white\",\"linecolor\":\"white\",\"ticks\":\"\"},\"baxis\":{\"gridcolor\":\"white\",\"linecolor\":\"white\",\"ticks\":\"\"},\"caxis\":{\"gridcolor\":\"white\",\"linecolor\":\"white\",\"ticks\":\"\"}},\"coloraxis\":{\"colorbar\":{\"outlinewidth\":0,\"ticks\":\"\"}},\"colorscale\":{\"sequential\":[[0.0,\"#0d0887\"],[0.1111111111111111,\"#46039f\"],[0.2222222222222222,\"#7201a8\"],[0.3333333333333333,\"#9c179e\"],[0.4444444444444444,\"#bd3786\"],[0.5555555555555556,\"#d8576b\"],[0.6666666666666666,\"#ed7953\"],[0.7777777777777778,\"#fb9f3a\"],[0.8888888888888888,\"#fdca26\"],[1.0,\"#f0f921\"]],\"sequentialminus\":[[0.0,\"#0d0887\"],[0.1111111111111111,\"#46039f\"],[0.2222222222222222,\"#7201a8\"],[0.3333333333333333,\"#9c179e\"],[0.4444444444444444,\"#bd3786\"],[0.5555555555555556,\"#d8576b\"],[0.6666666666666666,\"#ed7953\"],[0.7777777777777778,\"#fb9f3a\"],[0.8888888888888888,\"#fdca26\"],[1.0,\"#f0f921\"]],\"diverging\":[[0,\"#8e0152\"],[0.1,\"#c51b7d\"],[0.2,\"#de77ae\"],[0.3,\"#f1b6da\"],[0.4,\"#fde0ef\"],[0.5,\"#f7f7f7\"],[0.6,\"#e6f5d0\"],[0.7,\"#b8e186\"],[0.8,\"#7fbc41\"],[0.9,\"#4d9221\"],[1,\"#276419\"]]},\"xaxis\":{\"gridcolor\":\"white\",\"linecolor\":\"white\",\"ticks\":\"\",\"title\":{\"standoff\":15},\"zerolinecolor\":\"white\",\"automargin\":true,\"zerolinewidth\":2},\"yaxis\":{\"gridcolor\":\"white\",\"linecolor\":\"white\",\"ticks\":\"\",\"title\":{\"standoff\":15},\"zerolinecolor\":\"white\",\"automargin\":true,\"zerolinewidth\":2},\"scene\":{\"xaxis\":{\"backgroundcolor\":\"#E5ECF6\",\"gridcolor\":\"white\",\"linecolor\":\"white\",\"showbackground\":true,\"ticks\":\"\",\"zerolinecolor\":\"white\",\"gridwidth\":2},\"yaxis\":{\"backgroundcolor\":\"#E5ECF6\",\"gridcolor\":\"white\",\"linecolor\":\"white\",\"showbackground\":true,\"ticks\":\"\",\"zerolinecolor\":\"white\",\"gridwidth\":2},\"zaxis\":{\"backgroundcolor\":\"#E5ECF6\",\"gridcolor\":\"white\",\"linecolor\":\"white\",\"showbackground\":true,\"ticks\":\"\",\"zerolinecolor\":\"white\",\"gridwidth\":2}},\"shapedefaults\":{\"line\":{\"color\":\"#2a3f5f\"}},\"annotationdefaults\":{\"arrowcolor\":\"#2a3f5f\",\"arrowhead\":0,\"arrowwidth\":1},\"geo\":{\"bgcolor\":\"white\",\"landcolor\":\"#E5ECF6\",\"subunitcolor\":\"white\",\"showland\":true,\"showlakes\":true,\"lakecolor\":\"white\"},\"title\":{\"x\":0.05},\"mapbox\":{\"style\":\"light\"}}}},                        {\"responsive\": true}                    ).then(function(){\n",
              "                            \n",
              "var gd = document.getElementById('7e3738c3-6b91-43f5-a563-fab1244e5ff1');\n",
              "var x = new MutationObserver(function (mutations, observer) {{\n",
              "        var display = window.getComputedStyle(gd).display;\n",
              "        if (!display || display === 'none') {{\n",
              "            console.log([gd, 'removed!']);\n",
              "            Plotly.purge(gd);\n",
              "            observer.disconnect();\n",
              "        }}\n",
              "}});\n",
              "\n",
              "// Listen for the removal of the full notebook cells\n",
              "var notebookContainer = gd.closest('#notebook-container');\n",
              "if (notebookContainer) {{\n",
              "    x.observe(notebookContainer, {childList: true});\n",
              "}}\n",
              "\n",
              "// Listen for the clearing of the current output cell\n",
              "var outputEl = gd.closest('.output');\n",
              "if (outputEl) {{\n",
              "    x.observe(outputEl, {childList: true});\n",
              "}}\n",
              "\n",
              "                        })                };                            </script>        </div>\n",
              "</body>\n",
              "</html>"
            ]
          },
          "metadata": {}
        }
      ],
      "source": [
        "import numpy as np\n",
        "import pandas as pd\n",
        "from matplotlib.lines import Line2D\n",
        "import matplotlib.pyplot as plt\n",
        "from sklearn.preprocessing import MinMaxScaler\n",
        "import plotly.graph_objects as go\n",
        "# save numpy array as csv file\n",
        "from numpy import savetxt\n",
        "\n",
        "data_dir_demo  = \"/content/drive/MyDrive/Colab Notebooks/Wiping_left_right/\"\n",
        "\n",
        "filename = data_dir_demo + \"trajectory_data_wiping_left.npy\"\n",
        "filename_orig = data_dir_demo + \"trajectory_data_wiping_left_orig.npy\"\n",
        "\n",
        "with open(filename, 'rb') as f:\n",
        "  traj_standard = jnp.load(f) # nD x ntrajs (split) x nsamples x dim\n",
        "  vel_standard = jnp.load(f)\n",
        "  ts_new = jnp.load(f)\n",
        "  scaler_all_t_combine = jnp.load(f) # 1/T (end time) nD x ntrajs (split) x 1\n",
        "  minmax = jnp.load(f) # bounding cube (3 x 2)\n",
        "\n",
        "with open(filename_orig, 'rb') as f:\n",
        "  traj_all_combine_process = jnp.load(f) # nD x ntrajs (split) x nsamples x dim\n",
        "  vel_all_combine_process = jnp.load(f)\n",
        "\n",
        "# traj_load = traj_standard[:, :, :, :3]\n",
        "traj_load = traj_all_combine_process[:, :, :, :3]\n",
        "\n",
        "fig = go.Figure()\n",
        "n_D = traj_load.shape[0]\n",
        "split_indx = 0\n",
        "for i in range(n_D):\n",
        "  fig.add_trace(go.Scatter3d(x=traj_load[i, split_indx, :, 0], y=traj_load[i, split_indx, :, 1], z=traj_load[i, split_indx, :, 2], mode='lines',\n",
        "                            line=dict(color='gray', width=4)))\n",
        "  fig.add_trace(go.Scatter3d(x=traj_load[i, split_indx, :1, 0], y=traj_load[i, split_indx, :1, 1], z=traj_load[i, split_indx, :1, 2], mode='markers',\n",
        "                            line=dict(color='red', width=1)))\n",
        "  fig.add_trace(go.Scatter3d(x=traj_load[i, split_indx, -2:-1, 0], y=traj_load[i, split_indx, -2:-1, 1], z=traj_load[i, split_indx, -2:-1, 2], mode='markers',\n",
        "                            line=dict(color='blue', width=1)))\n",
        "fig.show()\n",
        "\n",
        "nsamples = traj_load.shape[2]\n",
        "# ts_new = np.linspace(0, 1, nsamples)"
      ]
    },
    {
      "cell_type": "markdown",
      "metadata": {
        "id": "wqfxnrt70v_Y"
      },
      "source": [
        "# Define the model"
      ]
    },
    {
      "cell_type": "code",
      "execution_count": null,
      "metadata": {
        "id": "243412cd-9f19-489f-a10e-bf0eb8bf3788"
      },
      "outputs": [],
      "source": [
        "class Func(eqx.Module):\n",
        "    mlp: eqx.nn.MLP\n",
        "\n",
        "    def __init__(self, data_size, width_size, depth, *, key, **kwargs):\n",
        "        super().__init__(**kwargs)\n",
        "        initializer = jnn.initializers.orthogonal()\n",
        "        self.mlp = eqx.nn.MLP(\n",
        "            in_size=data_size,\n",
        "            out_size=data_size,\n",
        "            width_size=width_size,\n",
        "            depth=depth,\n",
        "            activation=jnn.tanh,\n",
        "            key=key,\n",
        "        )\n",
        "        model_key = key\n",
        "        key_weights = jrandom.split(model_key, depth+1)\n",
        "\n",
        "        for i in range(depth+1):\n",
        "          where = lambda m: m.layers[i].weight\n",
        "          shape = self.mlp.layers[i].weight.shape\n",
        "          self.mlp = eqx.tree_at(where, self.mlp, replace=initializer(key_weights[i], shape, dtype = jnp.float32))\n",
        "\n",
        "    @eqx.filter_jit\n",
        "    def __call__(self, t, y, args):\n",
        "\n",
        "        return self.mlp(y)"
      ]
    },
    {
      "cell_type": "code",
      "execution_count": null,
      "metadata": {
        "id": "YBzEfyCIjKKX"
      },
      "outputs": [],
      "source": [
        "## use the finite difference of the states also as a feature input to the vector field\n",
        "class Funcd(eqx.Module):\n",
        "    mlp: eqx.nn.MLP\n",
        "\n",
        "    def __init__(self, data_size, width_size, depth, *, key, **kwargs):\n",
        "        super().__init__(**kwargs)\n",
        "        initializer = jnn.initializers.orthogonal()\n",
        "        self.mlp = eqx.nn.MLP(\n",
        "            in_size=2*data_size,\n",
        "            out_size=2*data_size,\n",
        "            width_size=width_size,\n",
        "            depth=depth,\n",
        "            activation=jnn.tanh,\n",
        "            key=key,\n",
        "        )\n",
        "        model_key = key\n",
        "        key_weights = jrandom.split(model_key, depth+1)\n",
        "\n",
        "        for i in range(depth+1):\n",
        "          where = lambda m: m.layers[i].weight\n",
        "          shape = self.mlp.layers[i].weight.shape\n",
        "          self.mlp = eqx.tree_at(where, self.mlp, replace=initializer(key_weights[i], shape, dtype = jnp.float32))\n",
        "\n",
        "    @eqx.filter_jit\n",
        "    def __call__(self, t, yd, args):\n",
        "\n",
        "        return self.mlp(yd)\n",
        "        # return self.mlp(jnp.concatenate([yd, jnp.array([t])]))"
      ]
    },
    {
      "cell_type": "markdown",
      "metadata": {
        "id": "1aa17137-a851-4214-9187-53711d0e07da"
      },
      "source": [
        "Here we wrap up the entire ODE solve into a model."
      ]
    },
    {
      "cell_type": "code",
      "execution_count": null,
      "metadata": {
        "id": "fdb14ae0-1aa5-4e10-ba3b-d977d5d6ac3d"
      },
      "outputs": [],
      "source": [
        "class NeuralODE(eqx.Module):\n",
        "    func: Func\n",
        "\n",
        "    def __init__(self, data_size, width_size, depth, *, key, **kwargs):\n",
        "        super().__init__(**kwargs)\n",
        "        self.func = Func(data_size, width_size, depth, key=key)\n",
        "\n",
        "    @eqx.filter_jit\n",
        "    def __call__(self, ts, yd0):\n",
        "        solution = diffrax.diffeqsolve(\n",
        "            diffrax.ODETerm(self.func),\n",
        "            diffrax.Tsit5(),\n",
        "            t0=ts[0],\n",
        "            t1=ts[-1],\n",
        "            dt0=ts[1] - ts[0],\n",
        "            y0=yd0,\n",
        "            stepsize_controller=diffrax.PIDController(rtol=1e-3, atol=1e-6),\n",
        "            saveat=diffrax.SaveAt(ts=ts),\n",
        "        )\n",
        "        return solution.ys"
      ]
    },
    {
      "cell_type": "code",
      "execution_count": null,
      "metadata": {
        "id": "PlfTmUwtPP2c"
      },
      "outputs": [],
      "source": [
        "## Predict the trajectory of finite difference of the states also\n",
        "class NeuralODEd(eqx.Module):\n",
        "    func: Funcd\n",
        "\n",
        "    def __init__(self, data_size, width_size, depth, *, key, **kwargs):\n",
        "        super().__init__(**kwargs)\n",
        "        self.func = Funcd(data_size, width_size, depth, key=key)\n",
        "\n",
        "    @eqx.filter_jit\n",
        "    def __call__(self, ts, yd0):\n",
        "        solution = diffrax.diffeqsolve(\n",
        "            diffrax.ODETerm(self.func),\n",
        "            diffrax.Tsit5(),\n",
        "            t0=ts[0],\n",
        "            t1=ts[-1],\n",
        "            dt0=ts[1] - ts[0],\n",
        "            y0=yd0,\n",
        "            stepsize_controller=diffrax.PIDController(rtol=1e-3, atol=1e-6),\n",
        "            saveat=diffrax.SaveAt(ts=ts),\n",
        "        )\n",
        "        return solution.ys"
      ]
    },
    {
      "cell_type": "markdown",
      "metadata": {
        "id": "97d3264c-2edc-465e-b61f-05125645e1df"
      },
      "source": [
        "# Data loader"
      ]
    },
    {
      "cell_type": "code",
      "execution_count": null,
      "metadata": {
        "id": "CuZyAMqEvOCp"
      },
      "outputs": [],
      "source": [
        "def dataloader(arrays, batch_size, *, key):\n",
        "    dataset_size = arrays[0].shape[0]\n",
        "    assert all(array.shape[0] == dataset_size for array in arrays)\n",
        "    indices = jnp.arange(dataset_size)\n",
        "    while True:\n",
        "        perm = jrandom.permutation(key, indices)\n",
        "        (key,) = jrandom.split(key, 1)\n",
        "        start = 0\n",
        "        end = batch_size\n",
        "        while end < dataset_size:\n",
        "            batch_perm = perm[start:end]\n",
        "            yield tuple(array[batch_perm] for array in arrays)\n",
        "            start = end\n",
        "            end = start + batch_size"
      ]
    },
    {
      "cell_type": "markdown",
      "metadata": {
        "id": "tewvNxrR03e2"
      },
      "source": [
        "# Train"
      ]
    },
    {
      "cell_type": "code",
      "execution_count": null,
      "metadata": {
        "id": "6505387d-6900-401d-9ceb-b741f349f1e6"
      },
      "outputs": [],
      "source": [
        "def main(\n",
        "    dataset_size=1,\n",
        "    batch_size=1,\n",
        "    lr_strategy=(3e-3, 3e-3, 3e-3),\n",
        "    steps_strategy=(5000, 5000, 5000),\n",
        "    length_strategy=(0.3, 0.7, 1),\n",
        "    width_size=64,\n",
        "    depth=3,\n",
        "    seed=1000,\n",
        "    plot=True,\n",
        "    print_every=100,\n",
        "    save_every = 1000,\n",
        "):\n",
        "    key = jrandom.PRNGKey(seed)\n",
        "    data_key, model_key, loader_key = jrandom.split(key, 3)\n",
        "    file_name = \"/content/drive/MyDrive/Colab Notebooks/Neural ODE/wiping_left.eqx\"\n",
        "\n",
        "    # ts, ys, ys_dot = get_data(dataset_size, key=data_key)\n",
        "\n",
        "    ## training data\n",
        "\n",
        "    # 2nd index is which trajectory of the split.\n",
        "\n",
        "    split_i = 0\n",
        "    ys = traj_load[:dataset_size, split_i]\n",
        "    ts = ts_new\n",
        "\n",
        "    _, length_size, data_size = ys.shape\n",
        "\n",
        "    model = NeuralODE(data_size, width_size, depth, key=model_key)\n",
        "    # Training loop like normal.\n",
        "    #\n",
        "    # Only thing to notice is that up until step 500 we train on only the first 10% of\n",
        "    # each time series. This is a standard trick to avoid getting caught in a local\n",
        "    # minimum.\n",
        "\n",
        "    @eqx.filter_value_and_grad\n",
        "    @eqx.filter_jit\n",
        "    def grad_loss(model, ti, yi):\n",
        "        y_pred = jax.vmap(model, in_axes=(None, 0))(ti, yi[:, 0])\n",
        "        loss = jnp.mean((yi - y_pred) ** 2)\n",
        "        return loss\n",
        "\n",
        "    @eqx.filter_jit\n",
        "    def make_step(ti, yi, model, opt_state):\n",
        "        loss, grads = grad_loss(model, ti, yi)\n",
        "        updates, opt_state = optim.update(grads, opt_state)\n",
        "        model = eqx.apply_updates(model, updates)\n",
        "        return loss, model, opt_state\n",
        "\n",
        "    for lr, steps, length in zip(lr_strategy, steps_strategy, length_strategy):\n",
        "        decay_scheduler = optax.cosine_decay_schedule(lr, decay_steps=steps, alpha=0.9)\n",
        "        # decay_scheduler = optax.piecewise_constant_schedule(init_value=lr, boundaries_and_scales={int(steps*0.25):0.5, int(steps*0.5):0.5, int(steps*0.75):0.5})\n",
        "        # decay_scheduler = optax.exponential_decay(init_value=lr, transition_steps=steps, decay_rate=0.98, transition_begin=int(steps*0.25), staircase=False)\n",
        "        # decay_scheduler = optax.linear_schedule(init_value=lr, end_value=0.005*lr, transition_steps=steps, transition_begin=int(steps*0.25))\n",
        "        optim = optax.adabelief(learning_rate=decay_scheduler)\n",
        "        opt_state = optim.init(eqx.filter(model, eqx.is_inexact_array))\n",
        "        _ts = ts[: int(length_size * length)]\n",
        "        _ys = ys[:, : int(length_size * length)]\n",
        "        # _ys_dot = []\n",
        "        # ## No batches\n",
        "        for step in range(steps):\n",
        "          start = time.time()\n",
        "          loss, model, opt_state = make_step(_ts, _ys, model, opt_state)\n",
        "          end = time.time()\n",
        "          if (step % print_every) == 0 or step == steps - 1:\n",
        "            print(f\"Step: {step}, Loss: {loss}, Computation time: {end - start}\")\n",
        "          if (step % save_every) == 0 or step == steps-1:\n",
        "            eqx.tree_serialise_leaves(file_name, model)\n",
        "        ## Batches\n",
        "        # for step, (yi,) in zip(\n",
        "        #     range(steps), dataloader((_ys,), batch_size, key=loader_key)\n",
        "        # ):\n",
        "        #     start = time.time()\n",
        "        #     loss, model, opt_state = make_step(_ts, yi, model, opt_state)\n",
        "        #     end = time.time()\n",
        "        #     if (step % print_every) == 0 or step == steps - 1:\n",
        "        #       print(f\"Step: {step}, Loss: {loss}, Computation time: {end - start}\")\n",
        "        #     if (step % save_every) == 0 or step == steps-1:\n",
        "        #       eqx.tree_serialise_leaves(file_name, model)\n",
        "\n",
        "    # if plot:\n",
        "    #     plt.plot(ts, ys[0, :, 0], c=\"dodgerblue\", label=\"Real\")\n",
        "    #     plt.plot(ts, ys[0, :, 1], c=\"dodgerblue\")\n",
        "    #     model_y = model(ts, ys[0, 0])\n",
        "    #     plt.plot(ts, model_y[:, 0], c=\"crimson\", label=\"Model\")\n",
        "    #     plt.plot(ts, model_y[:, 1], c=\"crimson\")\n",
        "    #     plt.legend()\n",
        "    #     plt.tight_layout()\n",
        "    #     plt.savefig(\"neural_ode.png\")\n",
        "    #     plt.show()\n",
        "\n",
        "    return ts, ys, model"
      ]
    },
    {
      "cell_type": "code",
      "execution_count": null,
      "metadata": {
        "id": "SfLdkRjivvsC",
        "colab": {
          "base_uri": "https://localhost:8080/"
        },
        "outputId": "f349eee1-cce3-4570-9318-5d52cfb25c23"
      },
      "outputs": [
        {
          "output_type": "stream",
          "name": "stdout",
          "text": [
            "Step: 0, Loss: 0.015772387385368347, Computation time: 7.094071865081787\n",
            "Step: 100, Loss: 0.0005458690575323999, Computation time: 0.0063588619232177734\n",
            "Step: 200, Loss: 0.0004894890007562935, Computation time: 0.0037429332733154297\n",
            "Step: 300, Loss: 0.0004743468598462641, Computation time: 0.0035996437072753906\n",
            "Step: 400, Loss: 0.00046222450328059494, Computation time: 0.00371551513671875\n",
            "Step: 500, Loss: 0.0004328663635533303, Computation time: 0.0036230087280273438\n",
            "Step: 600, Loss: 0.0003444298345129937, Computation time: 0.003644704818725586\n",
            "Step: 700, Loss: 0.00013794272672384977, Computation time: 0.004027605056762695\n",
            "Step: 800, Loss: 6.915207632118836e-05, Computation time: 0.00414276123046875\n",
            "Step: 900, Loss: 4.821633410756476e-05, Computation time: 0.003934621810913086\n",
            "Step: 1000, Loss: 3.877939161611721e-05, Computation time: 0.003679037094116211\n",
            "Step: 1100, Loss: 3.198537524440326e-05, Computation time: 0.003984212875366211\n",
            "Step: 1200, Loss: 3.8703728932887316e-05, Computation time: 0.0041844844818115234\n",
            "Step: 1300, Loss: 2.3659647922613658e-05, Computation time: 0.004048824310302734\n",
            "Step: 1400, Loss: 2.185829907830339e-05, Computation time: 0.005077362060546875\n",
            "Step: 1500, Loss: 1.679861634329427e-05, Computation time: 0.004823923110961914\n",
            "Step: 1600, Loss: 2.1184454453759827e-05, Computation time: 0.0037546157836914062\n",
            "Step: 1700, Loss: 1.7784986994229257e-05, Computation time: 0.0037529468536376953\n",
            "Step: 1800, Loss: 1.4295010259957053e-05, Computation time: 0.003790140151977539\n",
            "Step: 1900, Loss: 7.138827641028911e-06, Computation time: 0.00708317756652832\n",
            "Step: 2000, Loss: 1.2170998161309399e-05, Computation time: 0.009020328521728516\n",
            "Step: 2100, Loss: 6.603998372156639e-06, Computation time: 0.006407499313354492\n",
            "Step: 2200, Loss: 9.479096661380026e-06, Computation time: 0.008263349533081055\n",
            "Step: 2300, Loss: 6.5357507992303e-06, Computation time: 0.007863044738769531\n",
            "Step: 2400, Loss: 6.673898496956099e-06, Computation time: 0.00434112548828125\n",
            "Step: 2500, Loss: 3.138076135655865e-05, Computation time: 0.0038945674896240234\n",
            "Step: 2600, Loss: 6.817879693699069e-06, Computation time: 0.0046520233154296875\n",
            "Step: 2700, Loss: 6.27857343715732e-06, Computation time: 0.0036499500274658203\n",
            "Step: 2800, Loss: 6.170786491566105e-06, Computation time: 0.003930330276489258\n",
            "Step: 2900, Loss: 5.915815563639626e-06, Computation time: 0.0038170814514160156\n",
            "Step: 3000, Loss: 5.569011136685731e-06, Computation time: 0.0035562515258789062\n",
            "Step: 3100, Loss: 5.099730515212286e-06, Computation time: 0.00435328483581543\n",
            "Step: 3200, Loss: 6.997242508077761e-06, Computation time: 0.004057168960571289\n",
            "Step: 3300, Loss: 1.3027967725065537e-05, Computation time: 0.0039060115814208984\n",
            "Step: 3400, Loss: 5.2350210353324655e-06, Computation time: 0.004378795623779297\n",
            "Step: 3500, Loss: 5.448285719467094e-06, Computation time: 0.004964590072631836\n",
            "Step: 3600, Loss: 6.123695584392408e-06, Computation time: 0.004216194152832031\n",
            "Step: 3700, Loss: 6.061565727577545e-06, Computation time: 0.0039014816284179688\n",
            "Step: 3800, Loss: 4.850832283409545e-06, Computation time: 0.0038712024688720703\n",
            "Step: 3900, Loss: 4.56417592431535e-06, Computation time: 0.003835439682006836\n",
            "Step: 4000, Loss: 6.0528468566189986e-06, Computation time: 0.0037958621978759766\n",
            "Step: 4100, Loss: 4.289727257855702e-06, Computation time: 0.004036426544189453\n",
            "Step: 4200, Loss: 4.001448360213544e-06, Computation time: 0.004198789596557617\n",
            "Step: 4300, Loss: 3.6721842207043665e-06, Computation time: 0.0039408206939697266\n",
            "Step: 4400, Loss: 3.982545422331896e-06, Computation time: 0.00417327880859375\n",
            "Step: 4500, Loss: 3.890666448569391e-06, Computation time: 0.00450897216796875\n",
            "Step: 4600, Loss: 4.958468252880266e-06, Computation time: 0.0053179264068603516\n",
            "Step: 4700, Loss: 3.7184083794272738e-06, Computation time: 0.003861665725708008\n",
            "Step: 4800, Loss: 4.2242031668138225e-06, Computation time: 0.007336616516113281\n",
            "Step: 4900, Loss: 5.757776307291351e-06, Computation time: 0.006485700607299805\n",
            "Step: 4999, Loss: 4.371647264633793e-06, Computation time: 0.006471395492553711\n",
            "Step: 0, Loss: 0.014863930642604828, Computation time: 5.312196731567383\n",
            "Step: 100, Loss: 0.0014585447497665882, Computation time: 0.004673957824707031\n",
            "Step: 200, Loss: 0.0012694288743659854, Computation time: 0.005329132080078125\n",
            "Step: 300, Loss: 0.0012220388744026423, Computation time: 0.00460505485534668\n",
            "Step: 400, Loss: 0.0011136566754430532, Computation time: 0.004847526550292969\n",
            "Step: 500, Loss: 0.0007268160698004067, Computation time: 0.004832029342651367\n",
            "Step: 600, Loss: 0.0004549871082417667, Computation time: 0.00517582893371582\n",
            "Step: 700, Loss: 0.000425842561526224, Computation time: 0.005405426025390625\n",
            "Step: 800, Loss: 0.00028068083338439465, Computation time: 0.004222393035888672\n",
            "Step: 900, Loss: 0.00017182213196065277, Computation time: 0.0049097537994384766\n",
            "Step: 1000, Loss: 0.0013577112695202231, Computation time: 0.004554271697998047\n",
            "Step: 1100, Loss: 0.0010424796491861343, Computation time: 0.004932880401611328\n",
            "Step: 1200, Loss: 0.0007943675736896694, Computation time: 0.00819253921508789\n",
            "Step: 1300, Loss: 0.0004755253903567791, Computation time: 0.007807016372680664\n",
            "Step: 1400, Loss: 0.0006012413068674505, Computation time: 0.00832676887512207\n",
            "Step: 1500, Loss: 0.0001727387571008876, Computation time: 0.008651494979858398\n",
            "Step: 1600, Loss: 0.0001080189977074042, Computation time: 0.005072593688964844\n",
            "Step: 1700, Loss: 7.99753179308027e-05, Computation time: 0.004876136779785156\n",
            "Step: 1800, Loss: 7.11738393874839e-05, Computation time: 0.004866838455200195\n",
            "Step: 1900, Loss: 5.293060894473456e-05, Computation time: 0.004755496978759766\n",
            "Step: 2000, Loss: 4.4778327719541267e-05, Computation time: 0.004952192306518555\n",
            "Step: 2100, Loss: 4.669065310736187e-05, Computation time: 0.007953882217407227\n",
            "Step: 2200, Loss: 5.965764285065234e-05, Computation time: 0.0046844482421875\n",
            "Step: 2300, Loss: 3.287300205556676e-05, Computation time: 0.004914999008178711\n",
            "Step: 2400, Loss: 3.926356657757424e-05, Computation time: 0.004503011703491211\n",
            "Step: 2500, Loss: 2.853226033039391e-05, Computation time: 0.004838705062866211\n",
            "Step: 2600, Loss: 2.198544461862184e-05, Computation time: 0.005718708038330078\n",
            "Step: 2700, Loss: 2.2838357836008072e-05, Computation time: 0.004715442657470703\n",
            "Step: 2800, Loss: 3.4309439797652885e-05, Computation time: 0.004736423492431641\n",
            "Step: 2900, Loss: 8.361134678125381e-05, Computation time: 0.005507230758666992\n",
            "Step: 3000, Loss: 2.2869835447636433e-05, Computation time: 0.005065202713012695\n",
            "Step: 3100, Loss: 1.588553459441755e-05, Computation time: 0.005074024200439453\n",
            "Step: 3200, Loss: 2.3472444809158333e-05, Computation time: 0.005212068557739258\n",
            "Step: 3300, Loss: 2.1148072846699506e-05, Computation time: 0.004955291748046875\n",
            "Step: 3400, Loss: 1.6517298718099482e-05, Computation time: 0.009347915649414062\n",
            "Step: 3500, Loss: 1.1272264600847848e-05, Computation time: 0.008317947387695312\n",
            "Step: 3600, Loss: 1.0684627341106534e-05, Computation time: 0.008092641830444336\n",
            "Step: 3700, Loss: 1.010690630209865e-05, Computation time: 0.00867772102355957\n",
            "Step: 3800, Loss: 1.2893496204924304e-05, Computation time: 0.0052318572998046875\n",
            "Step: 3900, Loss: 1.2079043699486647e-05, Computation time: 0.005705118179321289\n",
            "Step: 4000, Loss: 1.4928522432455793e-05, Computation time: 0.005159139633178711\n",
            "Step: 4100, Loss: 0.00022195454221218824, Computation time: 0.00506138801574707\n",
            "Step: 4200, Loss: 9.44264047575416e-06, Computation time: 0.005276679992675781\n",
            "Step: 4300, Loss: 8.384328793908935e-06, Computation time: 0.006033182144165039\n",
            "Step: 4400, Loss: 1.626277662580833e-05, Computation time: 0.005312681198120117\n",
            "Step: 4500, Loss: 1.9376517229829915e-05, Computation time: 0.005433797836303711\n",
            "Step: 4600, Loss: 1.2883396266261116e-05, Computation time: 0.004914760589599609\n",
            "Step: 4700, Loss: 8.778680239629466e-06, Computation time: 0.005509614944458008\n",
            "Step: 4800, Loss: 3.344070501043461e-05, Computation time: 0.005597114562988281\n",
            "Step: 4900, Loss: 1.8314049157197587e-05, Computation time: 0.00533604621887207\n",
            "Step: 4999, Loss: 7.349735369643895e-06, Computation time: 0.005121469497680664\n",
            "Step: 0, Loss: 0.0050316788256168365, Computation time: 6.374296426773071\n",
            "Step: 100, Loss: 0.0008706881781108677, Computation time: 0.006645917892456055\n",
            "Step: 200, Loss: 0.00037694565253332257, Computation time: 0.006077766418457031\n",
            "Step: 300, Loss: 0.0006176061579026282, Computation time: 0.006530046463012695\n",
            "Step: 400, Loss: 0.00018553834524936974, Computation time: 0.006501913070678711\n",
            "Step: 500, Loss: 0.0001111758392653428, Computation time: 0.006324291229248047\n",
            "Step: 600, Loss: 7.767514762235805e-05, Computation time: 0.007015705108642578\n",
            "Step: 700, Loss: 0.013909227214753628, Computation time: 0.006450176239013672\n",
            "Step: 800, Loss: 0.001043696771375835, Computation time: 0.006234169006347656\n",
            "Step: 900, Loss: 0.00048551827785559, Computation time: 0.0064830780029296875\n",
            "Step: 1000, Loss: 0.00030118078575469553, Computation time: 0.00627446174621582\n",
            "Step: 1100, Loss: 0.0002143802266800776, Computation time: 0.005793333053588867\n",
            "Step: 1200, Loss: 0.0001693481026450172, Computation time: 0.006129264831542969\n",
            "Step: 1300, Loss: 0.00013673650391865522, Computation time: 0.006261110305786133\n",
            "Step: 1400, Loss: 0.0001098138527595438, Computation time: 0.00614166259765625\n",
            "Step: 1500, Loss: 9.26392458495684e-05, Computation time: 0.005999565124511719\n",
            "Step: 1600, Loss: 7.422390626743436e-05, Computation time: 0.010163068771362305\n",
            "Step: 1700, Loss: 7.288484630407766e-05, Computation time: 0.011492013931274414\n",
            "Step: 1800, Loss: 8.340660860994831e-05, Computation time: 0.012225627899169922\n",
            "Step: 1900, Loss: 6.828934419900179e-05, Computation time: 0.007172822952270508\n",
            "Step: 2000, Loss: 0.00021782498515676707, Computation time: 0.007761240005493164\n",
            "Step: 2100, Loss: 4.8924339353106916e-05, Computation time: 0.006365299224853516\n",
            "Step: 2200, Loss: 3.8302128814393654e-05, Computation time: 0.00805044174194336\n",
            "Step: 2300, Loss: 3.398034459678456e-05, Computation time: 0.008047819137573242\n",
            "Step: 2400, Loss: 2.806314114423003e-05, Computation time: 0.010230779647827148\n",
            "Step: 2500, Loss: 3.06979964079801e-05, Computation time: 0.0065653324127197266\n",
            "Step: 2600, Loss: 3.12183219648432e-05, Computation time: 0.00725102424621582\n",
            "Step: 2700, Loss: 2.8091117201256566e-05, Computation time: 0.0075740814208984375\n",
            "Step: 2800, Loss: 6.559502799063921e-05, Computation time: 0.006595134735107422\n",
            "Step: 2900, Loss: 6.205234240042046e-05, Computation time: 0.006211519241333008\n",
            "Step: 3000, Loss: 2.1285102775436826e-05, Computation time: 0.006102085113525391\n",
            "Step: 3100, Loss: 3.0230443371692672e-05, Computation time: 0.005980253219604492\n",
            "Step: 3200, Loss: 0.00020936844521202147, Computation time: 0.0061948299407958984\n",
            "Step: 3300, Loss: 1.7305979781667702e-05, Computation time: 0.010369539260864258\n",
            "Step: 3400, Loss: 1.6265534213744104e-05, Computation time: 0.010551214218139648\n",
            "Step: 3500, Loss: 2.4324317564605735e-05, Computation time: 0.010276317596435547\n",
            "Step: 3600, Loss: 2.1336534700822085e-05, Computation time: 0.010732650756835938\n",
            "Step: 3700, Loss: 2.1550842575379647e-05, Computation time: 0.005717277526855469\n",
            "Step: 3800, Loss: 1.610872095625382e-05, Computation time: 0.0058405399322509766\n",
            "Step: 3900, Loss: 3.4586515539558604e-05, Computation time: 0.006705045700073242\n",
            "Step: 4000, Loss: 1.4335138985188678e-05, Computation time: 0.006651401519775391\n",
            "Step: 4100, Loss: 1.5330995665863156e-05, Computation time: 0.006371498107910156\n",
            "Step: 4200, Loss: 2.599850995466113e-05, Computation time: 0.0072939395904541016\n",
            "Step: 4300, Loss: 3.210014256183058e-05, Computation time: 0.00612950325012207\n",
            "Step: 4400, Loss: 1.3088095329294447e-05, Computation time: 0.006831645965576172\n",
            "Step: 4500, Loss: 1.1170980542374309e-05, Computation time: 0.0067806243896484375\n",
            "Step: 4600, Loss: 1.0536798981775064e-05, Computation time: 0.005942821502685547\n",
            "Step: 4700, Loss: 1.6258127288892865e-05, Computation time: 0.0057942867279052734\n",
            "Step: 4800, Loss: 8.750117558520287e-05, Computation time: 0.006455421447753906\n",
            "Step: 4900, Loss: 1.0607384865579661e-05, Computation time: 0.007098197937011719\n",
            "Step: 4999, Loss: 3.6797082429984584e-05, Computation time: 0.006220579147338867\n"
          ]
        }
      ],
      "source": [
        "ts, ys, model = main()"
      ]
    },
    {
      "cell_type": "markdown",
      "metadata": {
        "id": "3Ha2cbzfF6Za"
      },
      "source": [
        "# Save the model"
      ]
    },
    {
      "cell_type": "code",
      "execution_count": null,
      "metadata": {
        "id": "5Q5PwmlXEj_B"
      },
      "outputs": [],
      "source": [
        "file_name = \"/content/drive/MyDrive/Colab Notebooks/Neural ODE/wiping_left.eqx\"\n",
        "eqx.tree_serialise_leaves(file_name, model)"
      ]
    },
    {
      "cell_type": "markdown",
      "source": [
        "# Load the model"
      ],
      "metadata": {
        "id": "YLl10_r6aVk8"
      }
    },
    {
      "cell_type": "code",
      "execution_count": null,
      "metadata": {
        "id": "gtX7Gb35wu_F"
      },
      "outputs": [],
      "source": [
        "# load the saved model\n",
        "file_name = \"/content/drive/MyDrive/Colab Notebooks/Neural ODE/Wiping_franka_models/wiping_left.eqx\"\n",
        "dataset_size = 1\n",
        "split_i = 0\n",
        "ys = traj_load[:dataset_size, split_i, :, :3]\n",
        "ts = ts_new\n",
        "_, length_size, data_size = ys.shape\n",
        "width_size=64\n",
        "depth=3\n",
        "seed=1000\n",
        "key = jrandom.PRNGKey(seed)\n",
        "data_key, model_key, loader_key = jrandom.split(key, 3)\n",
        "model1 = NeuralODE(data_size, width_size, depth, key=model_key)\n",
        "model_load= eqx.tree_deserialise_leaves(file_name, model1)"
      ]
    },
    {
      "cell_type": "markdown",
      "metadata": {
        "id": "D1RO_IiqhqJo"
      },
      "source": [
        "# Plot the predicted trajectories"
      ]
    },
    {
      "cell_type": "code",
      "execution_count": null,
      "metadata": {
        "colab": {
          "base_uri": "https://localhost:8080/",
          "height": 542
        },
        "id": "DVkIsjWwjIJt",
        "outputId": "eacac1d5-992b-45df-acea-68cb41945097"
      },
      "outputs": [
        {
          "output_type": "display_data",
          "data": {
            "text/html": [
              "<html>\n",
              "<head><meta charset=\"utf-8\" /></head>\n",
              "<body>\n",
              "    <div>            <script src=\"https://cdnjs.cloudflare.com/ajax/libs/mathjax/2.7.5/MathJax.js?config=TeX-AMS-MML_SVG\"></script><script type=\"text/javascript\">if (window.MathJax && window.MathJax.Hub && window.MathJax.Hub.Config) {window.MathJax.Hub.Config({SVG: {font: \"STIX-Web\"}});}</script>                <script type=\"text/javascript\">window.PlotlyConfig = {MathJaxConfig: 'local'};</script>\n",
              "        <script charset=\"utf-8\" src=\"https://cdn.plot.ly/plotly-2.24.1.min.js\"></script>                <div id=\"44f9732a-021f-4d57-9a5e-de847b4e3fdc\" class=\"plotly-graph-div\" style=\"height:525px; width:100%;\"></div>            <script type=\"text/javascript\">                                    window.PLOTLYENV=window.PLOTLYENV || {};                                    if (document.getElementById(\"44f9732a-021f-4d57-9a5e-de847b4e3fdc\")) {                    Plotly.newPlot(                        \"44f9732a-021f-4d57-9a5e-de847b4e3fdc\",                        [{\"line\":{\"color\":\"gray\",\"width\":4},\"mode\":\"lines\",\"x\":[0.26848486065864563,0.26799437403678894,0.267417848110199,0.26594242453575134,0.26482006907463074,0.26449161767959595,0.2646532356739044,0.26473331451416016,0.26501694321632385,0.26569777727127075,0.26603925228118896,0.26616978645324707,0.2658727169036865,0.2658911645412445,0.2662363350391388,0.26670369505882263,0.2669648230075836,0.2669077515602112,0.2670022249221802,0.2670069932937622,0.2669639587402344,0.26718631386756897,0.2672748267650604,0.26794904470443726,0.26882198452949524,0.2700357437133789,0.27125704288482666,0.27249768376350403,0.2736184597015381,0.274962455034256,0.2761005163192749,0.2774605453014374,0.27863991260528564,0.27970775961875916,0.28054580092430115,0.28167206048965454,0.2830946743488312,0.28439265489578247,0.28558340668678284,0.2859894931316376,0.2864261269569397,0.2864770293235779,0.28666257858276367,0.2867935597896576,0.2869205176830292,0.2881251871585846,0.2902752757072449,0.2929399907588959,0.2957255244255066,0.2990020513534546,0.30317872762680054,0.3083084225654602,0.3151428997516632,0.322349488735199,0.32900139689445496,0.3350115418434143,0.3397938311100006,0.34417545795440674,0.34862273931503296,0.3529910743236542,0.35735130310058594,0.3610253632068634,0.364233136177063,0.36731570959091187,0.37040841579437256,0.37345972657203674,0.3762225806713104,0.37857162952423096,0.3810538649559021,0.38417521119117737,0.38767844438552856,0.39128562808036804,0.39485347270965576,0.39850717782974243,0.40214118361473083,0.4062369465827942,0.41024982929229736,0.4142364263534546,0.41801366209983826,0.4226328134536743,0.42841893434524536,0.4339389204978943,0.43847936391830444,0.4424639940261841,0.44687142968177795,0.4520028829574585,0.45738741755485535,0.4625869691371918,0.4675392806529999,0.4719374477863312,0.4761022925376892,0.48013758659362793,0.4840161204338074,0.48754099011421204,0.49081557989120483,0.49378740787506104,0.49638476967811584,0.4988251328468323,0.5013272762298584,0.504178524017334,0.507040798664093,0.5097717642784119,0.5122862458229065,0.515208899974823,0.5190488696098328,0.5235608816146851,0.5284357070922852,0.5330069661140442,0.5379836559295654,0.5433716177940369,0.5492615103721619,0.555720865726471,0.5620714426040649,0.5677680373191833,0.5726373195648193,0.576734721660614,0.5798683166503906,0.5821787118911743,0.5846378207206726,0.586785078048706,0.5890699028968811,0.5914825797080994,0.5944667458534241,0.5972393155097961,0.6000447869300842,0.602421760559082,0.6043388247489929,0.6057025790214539,0.6069634556770325,0.6083099246025085,0.6094129681587219,0.6107128858566284,0.6117017865180969,0.6126945614814758,0.6139370799064636,0.6145924925804138,0.6153921484947205,0.6154823899269104,0.6154124140739441,0.6148035526275635,0.6136127710342407,0.6118893623352051,0.6096442937850952,0.6070788502693176,0.6040623784065247,0.601327121257782,0.6002185940742493,0.5992924571037292,0.5977596640586853,0.5959085822105408,0.5939382314682007,0.5930296182632446,0.5925270318984985,0.5922094583511353,0.592177152633667,0.5920493006706238,0.5910850167274475,0.5893802046775818,0.5871586203575134,0.5844654440879822,0.5813860297203064,0.5776903629302979,0.5733717679977417,0.568999171257019,0.5635885000228882,0.5569508075714111,0.549132764339447,0.5400059223175049,0.5291963219642639,0.5179025530815125,0.5052529573440552,0.4913889467716217,0.476703941822052,0.46115630865097046,0.44517797231674194,0.4297696650028229,0.4147037863731384,0.40038856863975525,0.3866415023803711,0.3740929365158081,0.3623296022415161,0.35099199414253235,0.3409745693206787,0.331866592168808,0.32395365834236145,0.31636983156204224,0.30922332406044006,0.30226972699165344,0.2965884208679199,0.2919590175151825,0.28874558210372925,0.2865702211856842,0.28509292006492615,0.28344613313674927,0.2813475430011749,0.27964937686920166,0.27812278270721436,0.2766990065574646,0.2755845785140991,0.2746637463569641],\"y\":[-0.4816107153892517,-0.481313019990921,-0.48088517785072327,-0.4800697863101959,-0.47934970259666443,-0.47803884744644165,-0.47692665457725525,-0.4756777882575989,-0.4741247892379761,-0.4709763824939728,-0.46666717529296875,-0.4617074131965637,-0.45588865876197815,-0.4491007924079895,-0.4405948519706726,-0.4307827949523926,-0.4205765724182129,-0.4100262522697449,-0.39999088644981384,-0.38996413350105286,-0.3798755407333374,-0.36889150738716125,-0.35748764872550964,-0.34580573439598083,-0.3336537480354309,-0.32167479395866394,-0.3095049560070038,-0.29739508032798767,-0.2849338948726654,-0.27203401923179626,-0.25824013352394104,-0.24465660750865936,-0.23133061826229095,-0.2198239415884018,-0.2093365490436554,-0.1989099085330963,-0.1882554441690445,-0.1773851215839386,-0.16696743667125702,-0.15699779987335205,-0.14793947339057922,-0.13939452171325684,-0.13128288090229034,-0.12303365021944046,-0.11401116102933884,-0.10489808768033981,-0.09656819701194763,-0.0897965356707573,-0.08441976457834244,-0.08065596967935562,-0.07873550057411194,-0.07821574062108994,-0.07900168001651764,-0.08114581555128098,-0.08436314016580582,-0.08856776356697083,-0.09354754537343979,-0.0995292216539383,-0.10649855434894562,-0.11470729857683182,-0.1237998753786087,-0.13322368264198303,-0.143190398812294,-0.1533629596233368,-0.16401930153369904,-0.17437079548835754,-0.18397024273872375,-0.19299478828907013,-0.20112188160419464,-0.20899909734725952,-0.21709111332893372,-0.2255094349384308,-0.2345663160085678,-0.24417753517627716,-0.2536546587944031,-0.2628973722457886,-0.2712346911430359,-0.278250128030777,-0.28347399830818176,-0.2869229316711426,-0.28902721405029297,-0.28924843668937683,-0.2876085937023163,-0.2840035557746887,-0.2781573534011841,-0.27083325386047363,-0.26275527477264404,-0.2544381320476532,-0.24600765109062195,-0.2378579080104828,-0.2295709252357483,-0.22095853090286255,-0.21226876974105835,-0.20399846136569977,-0.19591058790683746,-0.18797963857650757,-0.17997588217258453,-0.17154037952423096,-0.16259434819221497,-0.1526859998703003,-0.14287012815475464,-0.1334020048379898,-0.12470664083957672,-0.11634879559278488,-0.10970935225486755,-0.10533896833658218,-0.10290894657373428,-0.10149775445461273,-0.10084689408540726,-0.10105936974287033,-0.10229143500328064,-0.1047513410449028,-0.10850310325622559,-0.11345335096120834,-0.11996777355670929,-0.12784840166568756,-0.13778218626976013,-0.1495034247636795,-0.1619776040315628,-0.1753847897052765,-0.18846528232097626,-0.2012704759836197,-0.21308396756649017,-0.22422869503498077,-0.2354937493801117,-0.2468385100364685,-0.25865113735198975,-0.2710578739643097,-0.28332820534706116,-0.2953706979751587,-0.3071027398109436,-0.31825223565101624,-0.3285543620586395,-0.3385547697544098,-0.3484703004360199,-0.35841286182403564,-0.36822107434272766,-0.37790220975875854,-0.38730016350746155,-0.39671432971954346,-0.4062148332595825,-0.41533854603767395,-0.42415085434913635,-0.43141019344329834,-0.4373483955860138,-0.440784215927124,-0.4421982169151306,-0.4437287747859955,-0.4467761814594269,-0.45090311765670776,-0.4549601674079895,-0.457845002412796,-0.4591594338417053,-0.4591839909553528,-0.4583047330379486,-0.4569234549999237,-0.4560582637786865,-0.4560887813568115,-0.4565510153770447,-0.45652636885643005,-0.4554103910923004,-0.4540363550186157,-0.45286107063293457,-0.45158496499061584,-0.4505757689476013,-0.4499032199382782,-0.44934019446372986,-0.44969677925109863,-0.451678991317749,-0.45477327704429626,-0.45806434750556946,-0.4612210690975189,-0.46418601274490356,-0.4668935537338257,-0.46932151913642883,-0.4715597927570343,-0.47331002354621887,-0.4743722975254059,-0.47537899017333984,-0.4761970341205597,-0.4768148958683014,-0.47710832953453064,-0.47657299041748047,-0.47469088435173035,-0.47224682569503784,-0.46969667077064514,-0.46791335940361023,-0.46700000762939453,-0.46762803196907043,-0.47005218267440796,-0.4739159941673279,-0.4769051969051361,-0.47760844230651855,-0.47724002599716187,-0.47734335064888,-0.4771993160247803,-0.476518839597702,-0.4763545095920563,-0.47642281651496887,-0.47596046328544617],\"z\":[0.043100226670503616,0.03911653161048889,0.035073380917310715,0.030074842274188995,0.026859594509005547,0.025341860949993134,0.025025460869073868,0.0245636198669672,0.024291744455695152,0.02415279485285282,0.02396216429769993,0.02409467287361622,0.023751331493258476,0.023745469748973846,0.023419076576828957,0.023360291495919228,0.023204056546092033,0.02295258827507496,0.023002808913588524,0.022702200338244438,0.022587303072214127,0.022437451407313347,0.0222031082957983,0.022197676822543144,0.02195894904434681,0.02202986553311348,0.02178102545440197,0.021821465343236923,0.021634362637996674,0.021671084687113762,0.02147039957344532,0.021526871249079704,0.02134096249938011,0.02135983109474182,0.02132542058825493,0.021153435111045837,0.021096136420965195,0.021047407761216164,0.021140925586223602,0.020943989977240562,0.020922554656863213,0.020827999338507652,0.02080981619656086,0.02085542120039463,0.020771337673068047,0.02079978585243225,0.020789435133337975,0.020882338285446167,0.02092619612812996,0.020881447941064835,0.02094542793929577,0.020861433818936348,0.02090325579047203,0.0208938829600811,0.020877839997410774,0.020896434783935547,0.020955512300133705,0.02103598788380623,0.020989535376429558,0.021006375551223755,0.021063240244984627,0.021090224385261536,0.02117769420146942,0.02124607563018799,0.02121187373995781,0.021334372460842133,0.021470146253705025,0.021402910351753235,0.02147579938173294,0.021636324003338814,0.021571144461631775,0.021802600473165512,0.02180556021630764,0.022024525329470634,0.021965142339468002,0.022193362936377525,0.022080687806010246,0.02227683737874031,0.022202694788575172,0.022183500230312347,0.022384213283658028,0.02230861969292164,0.022176725789904594,0.022106098011136055,0.022064117714762688,0.022016750648617744,0.022011248394846916,0.021993959322571754,0.02197903022170067,0.021950863301753998,0.021929508075118065,0.021901492029428482,0.021883346140384674,0.02186764031648636,0.021867502480745316,0.021855920553207397,0.021829860284924507,0.021813683211803436,0.02177736721932888,0.02177358791232109,0.021758968010544777,0.02178254909813404,0.021828439086675644,0.021875590085983276,0.021966535598039627,0.02194531261920929,0.022082289680838585,0.02193981595337391,0.021995175629854202,0.022041378542780876,0.021935414522886276,0.022164318710565567,0.02216680347919464,0.02228645421564579,0.022389600053429604,0.022400526329874992,0.022525794804096222,0.022359371185302734,0.022681117057800293,0.0226318147033453,0.022906644269824028,0.02274465002119541,0.022973233833909035,0.022708548232913017,0.022891221567988396,0.02267138473689556,0.022771403193473816,0.02281075157225132,0.022829987108707428,0.023080332204699516,0.02293536625802517,0.023243367671966553,0.02299841307103634,0.022975990548729897,0.02308751828968525,0.02297770045697689,0.023392578586935997,0.02317601814866066,0.023399485275149345,0.02333996444940567,0.023413177579641342,0.023363549262285233,0.023558879271149635,0.023346349596977234,0.02338128350675106,0.023576747626066208,0.0240742526948452,0.02494039200246334,0.027215920388698578,0.03259165957570076,0.04099022224545479,0.05239555984735489,0.06440174579620361,0.07684337347745895,0.08886830508708954,0.10081794857978821,0.11280211806297302,0.12550266087055206,0.13916796445846558,0.15268121659755707,0.16499939560890198,0.17551054060459137,0.1847594529390335,0.19326971471309662,0.20016662776470184,0.2057005614042282,0.21004605293273926,0.21370770037174225,0.21756815910339355,0.22162264585494995,0.22523312270641327,0.22749757766723633,0.22877854108810425,0.2293204516172409,0.22935429215431213,0.22904010117053986,0.2278318852186203,0.22507810592651367,0.2203386425971985,0.2139400690793991,0.20520243048667908,0.19457213580608368,0.18379606306552887,0.17252367734909058,0.16175654530525208,0.15104146301746368,0.140641450881958,0.13028988242149353,0.1206016018986702,0.1104610413312912,0.09992409497499466,0.08863911777734756,0.07666727155447006,0.0658106878399849,0.05795207619667053,0.05308879166841507,0.05060866102576256,0.050073519349098206,0.049759332090616226,0.04918555170297623],\"type\":\"scatter3d\"},{\"line\":{\"color\":\"red\",\"width\":1},\"mode\":\"markers\",\"x\":[0.26848486065864563],\"y\":[-0.4816107153892517],\"z\":[0.043100226670503616],\"type\":\"scatter3d\"},{\"line\":{\"color\":\"blue\",\"width\":1},\"mode\":\"markers\",\"x\":[0.2755845785140991],\"y\":[-0.47642281651496887],\"z\":[0.049759332090616226],\"type\":\"scatter3d\"},{\"line\":{\"color\":\"green\",\"width\":4},\"mode\":\"lines\",\"x\":[0.26848486065864563,0.267855167388916,0.26727718114852905,0.26674970984458923,0.2662772834300995,0.2658633589744568,0.2655101418495178,0.26521870493888855,0.2649892568588257,0.2648206949234009,0.26471075415611267,0.2646562159061432,0.2646540105342865,0.2647015452384949,0.26479557156562805,0.26493319869041443,0.2651117742061615,0.2653290629386902,0.26558297872543335,0.2658720314502716,0.2661949098110199,0.2665504217147827,0.26693782210350037,0.2673555314540863,0.2678031623363495,0.26828083395957947,0.2687888741493225,0.26932790875434875,0.2698988914489746,0.2705030143260956,0.27114173769950867,0.2718169391155243,0.2725306451320648,0.2732880115509033,0.27409544587135315,0.27495402097702026,0.2758690416812897,0.276851087808609,0.277915358543396,0.27908244729042053,0.2803776264190674,0.2818310558795929,0.2834780812263489,0.28535887598991394,0.2875185012817383,0.28999993205070496,0.29283806681632996,0.2960582971572876,0.299656480550766,0.30359870195388794,0.30782583355903625,0.3122672736644745,0.316815048456192,0.32137662172317505,0.32588234543800354,0.33028510212898254,0.33456045389175415,0.33870530128479004,0.3427296578884125,0.34664809703826904,0.3504752516746521,0.3542252779006958,0.35791197419166565,0.3615488111972809,0.3651488125324249,0.368723601102829,0.372283399105072,0.3758375942707062,0.37939441204071045,0.38296112418174744,0.3865441083908081,0.39014869928359985,0.39377933740615845,0.3974419832229614,0.4011441469192505,0.4048934876918793,0.4086979031562805,0.412565678358078,0.41650524735450745,0.420525461435318,0.42463546991348267,0.4288361966609955,0.4330873489379883,0.4373510479927063,0.441599041223526,0.4458126723766327,0.44998231530189514,0.4541078507900238,0.45818763971328735,0.4622211754322052,0.4662132263183594,0.4701688289642334,0.47409287095069885,0.4779904782772064,0.4818686246871948,0.4857393801212311,0.4896129369735718,0.49349987506866455,0.49741193652153015,0.5013617873191833,0.5053621530532837,0.509421169757843,0.5135482549667358,0.5177498459815979,0.5220276117324829,0.5263785719871521,0.5307945609092712,0.5352632999420166,0.5397663116455078,0.5442788004875183,0.5487836599349976,0.5532636046409607,0.5576990246772766,0.562067985534668,0.5663465857505798,0.5705083012580872,0.5745276808738708,0.5783998370170593,0.5821051001548767,0.5856219530105591,0.5889312028884888,0.5920164585113525,0.5948634743690491,0.5974610447883606,0.5997994542121887,0.6018741130828857,0.6036906838417053,0.6052567958831787,0.6065797805786133,0.6076686978340149,0.6085324883460999,0.6091809272766113,0.609624445438385,0.6098740100860596,0.609941303730011,0.6098387241363525,0.6095786094665527,0.6091732382774353,0.6086366176605225,0.6079841256141663,0.6072314977645874,0.6063953638076782,0.6054935455322266,0.6045443415641785,0.6035669445991516,0.6025811433792114,0.6016080379486084,0.6006690859794617,0.5997890830039978,0.598987877368927,0.598232626914978,0.5974757671356201,0.5966620445251465,0.5957288146018982,0.5946058630943298,0.5932154655456543,0.5914722084999084,0.5892834067344666,0.5865485668182373,0.5831599235534668,0.5790019631385803,0.5740045309066772,0.5683014988899231,0.5618476867675781,0.5545893311500549,0.5464935302734375,0.5375487208366394,0.5277639031410217,0.5171699523925781,0.5058178901672363,0.4937805235385895,0.4811510443687439,0.4680444896221161,0.45459607243537903,0.4409603476524353,0.4272131323814392,0.4134632647037506,0.3998585343360901,0.3865412771701813,0.3736497461795807,0.36131662130355835,0.34967029094696045,0.3388386368751526,0.32899802923202515,0.32021835446357727,0.31251344084739685,0.30587348341941833,0.30026549100875854,0.2956330180168152,0.29189616441726685,0.2889517843723297,0.2866731286048889,0.28491052985191345,0.2834913730621338,0.2822920083999634,0.28124555945396423,0.2803071439266205,0.27945318818092346,0.2786782383918762,0.2779698371887207],\"y\":[-0.4816107153892517,-0.4818560779094696,-0.48237884044647217,-0.4829351007938385,-0.4831935167312622,-0.48288512229919434,-0.4818030893802643,-0.4798034131526947,-0.4768039584159851,-0.4727851450443268,-0.46778982877731323,-0.4619230329990387,-0.4552916884422302,-0.44793757796287537,-0.4399149417877197,-0.431278258562088,-0.4220818877220154,-0.4123804569244385,-0.4022287130355835,-0.39168140292167664,-0.38079333305358887,-0.369619756937027,-0.3582127094268799,-0.3466057777404785,-0.334832102060318,-0.32292476296424866,-0.31091609597206116,-0.29883721470832825,-0.2867181599140167,-0.2745882272720337,-0.26247522234916687,-0.25040626525878906,-0.23840738832950592,-0.226504847407341,-0.21473374962806702,-0.2031337469816208,-0.19174639880657196,-0.18061494827270508,-0.16978444159030914,-0.1593017280101776,-0.14921537041664124,-0.1395758092403412,-0.13043531775474548,-0.12184770405292511,-0.11386885493993759,-0.10654473304748535,-0.0999159961938858,-0.09402697533369064,-0.08888911455869675,-0.08448022603988647,-0.0807022824883461,-0.07750844210386276,-0.07542605698108673,-0.07488318532705307,-0.0761278048157692,-0.07922784239053726,-0.08407113701105118,-0.09034465253353119,-0.09764466434717178,-0.10572102665901184,-0.1143713966012001,-0.12343379110097885,-0.13278670608997345,-0.1423490047454834,-0.15206101536750793,-0.1618507355451584,-0.1716647446155548,-0.1814572513103485,-0.19118979573249817,-0.20083145797252655,-0.21035856008529663,-0.2197549194097519,-0.22901040315628052,-0.23810242116451263,-0.24699224531650543,-0.25558727979660034,-0.26373204588890076,-0.27120867371559143,-0.27773672342300415,-0.282973051071167,-0.28651201725006104,-0.2879706919193268,-0.28743603825569153,-0.2851291596889496,-0.28127431869506836,-0.2761041224002838,-0.26985907554626465,-0.2627881169319153,-0.2551269829273224,-0.2470305860042572,-0.23861712217330933,-0.22998450696468353,-0.22120973467826843,-0.21234957873821259,-0.2034377157688141,-0.1944977194070816,-0.18556705117225647,-0.17668555676937103,-0.16789494454860687,-0.1592385172843933,-0.15076594054698944,-0.1425749808549881,-0.13473966717720032,-0.1273496448993683,-0.1205252930521965,-0.1144179180264473,-0.10921002179384232,-0.10511478781700134,-0.10236040502786636,-0.10105745494365692,-0.10136163234710693,-0.1033787652850151,-0.10713168978691101,-0.11256058514118195,-0.11952242255210876,-0.12779168784618378,-0.1370813548564911,-0.14723335206508636,-0.15807606279850006,-0.16944074630737305,-0.18118298053741455,-0.193182110786438,-0.2053414136171341,-0.21758851408958435,-0.22987067699432373,-0.24212788045406342,-0.25431519746780396,-0.2663927972316742,-0.27832433581352234,-0.2900759279727936,-0.3016166687011719,-0.31291890144348145,-0.3239573538303375,-0.33471015095710754,-0.34515804052352905,-0.3552846312522888,-0.36507630348205566,-0.37451431155204773,-0.3835747241973877,-0.39223384857177734,-0.40046775341033936,-0.4082530438899994,-0.4155661165714264,-0.4223836660385132,-0.4286826252937317,-0.43443992733955383,-0.439632773399353,-0.444238543510437,-0.4482647478580475,-0.45188114047050476,-0.45497262477874756,-0.45740291476249695,-0.4590827524662018,-0.45997026562690735,-0.4600702226161957,-0.4594348669052124,-0.4581635296344757,-0.45640236139297485,-0.4543449878692627,-0.45223188400268555,-0.4503507912158966,-0.4490192234516144,-0.4483364522457123,-0.44821956753730774,-0.4485883414745331,-0.4493699073791504,-0.45049887895584106,-0.45191749930381775,-0.4535753130912781,-0.4554293751716614,-0.4574442505836487,-0.4595918655395508,-0.46185168623924255,-0.4642106890678406,-0.46666744351387024,-0.46925053000450134,-0.4716072976589203,-0.4733697772026062,-0.47430023550987244,-0.4742913246154785,-0.47336575388908386,-0.4716765582561493,-0.46956804394721985,-0.4682711064815521,-0.46794039011001587,-0.4683249890804291,-0.46920067071914673,-0.4703700840473175,-0.47166287899017334,-0.4729354977607727,-0.4740711450576782,-0.474979966878891,-0.47559890151023865,-0.4759225845336914,-0.47587481141090393,-0.47538667917251587,-0.47458744049072266,-0.4738059937953949,-0.4734276533126831,-0.4733760356903076],\"z\":[0.043100226670503616,0.040403254330158234,0.037795018404722214,0.03529280424118042,0.032934848219156265,0.03075062856078148,0.02876082807779312,0.02697737142443657,0.02540338784456253,0.02403324842453003,0.022852551192045212,0.02183806709945202,0.020962843671441078,0.02021734043955803,0.019597327336668968,0.019097721204161644,0.018712585791945457,0.018435120582580566,0.01825767569243908,0.01817174069583416,0.018167950212955475,0.01823608949780464,0.01836591772735119,0.018551543354988098,0.01878541149199009,0.019058872014284134,0.01936260610818863,0.019686635583639145,0.020020319148898125,0.020352348685264587,0.020670754835009575,0.020962893962860107,0.021215468645095825,0.0214190986007452,0.021568266674876213,0.021648293361067772,0.02164899930357933,0.021565230563282967,0.021396858617663383,0.02114877663552761,0.020830903202295303,0.020458189770579338,0.02005060389637947,0.01963314227759838,0.019235825166106224,0.018891366198658943,0.01863705925643444,0.018514292314648628,0.0185591671615839,0.018802374601364136,0.0192736629396677,0.01995001547038555,0.020691029727458954,0.02137802727520466,0.021927541121840477,0.02229127287864685,0.022456172853708267,0.022452978417277336,0.022343231365084648,0.022153155878186226,0.02190474607050419,0.021618036553263664,0.02131110429763794,0.02100006677210331,0.020698534324765205,0.020416032522916794,0.02015974558889866,0.01993490569293499,0.01974482089281082,0.019590850919485092,0.019472429528832436,0.01938704214990139,0.01932993158698082,0.019295262172818184,0.019291019067168236,0.019327783957123756,0.019415708258748055,0.019564475864171982,0.019783340394496918,0.02008110284805298,0.020466122776269913,0.020932694897055626,0.021417954936623573,0.021869968622922897,0.02224835194647312,0.022522756829857826,0.02267291769385338,0.02268868312239647,0.02258842997252941,0.02240622043609619,0.022170312702655792,0.02191080152988434,0.021659672260284424,0.021450769156217575,0.021309012547135353,0.021228041499853134,0.021211737766861916,0.021259645000100136,0.021365704014897346,0.02151823602616787,0.021699635311961174,0.02189883030951023,0.02213120087981224,0.02240852266550064,0.02273455820977688,0.0231050793081522,0.023507844656705856,0.02392261102795601,0.024325110018253326,0.024702021852135658,0.02499750256538391,0.025167280808091164,0.025189973413944244,0.025067051872611046,0.02482287399470806,0.0245046466588974,0.024171480908989906,0.023805847391486168,0.023406678810715675,0.022982927039265633,0.02254275046288967,0.02209354378283024,0.021641897037625313,0.02119361236691475,0.020754849538207054,0.020335044711828232,0.019936876371502876,0.019563281908631325,0.019218605011701584,0.018908612430095673,0.018640484660863876,0.0184228103607893,0.01826559565961361,0.018180252984166145,0.018179623410105705,0.018277952447533607,0.018493501469492912,0.018844788894057274,0.01933438703417778,0.01997501403093338,0.020791765302419662,0.021822061389684677,0.023115679621696472,0.02473473735153675,0.026753751561045647,0.02925952337682247,0.032351281493902206,0.03614058345556259,0.040744565427303314,0.04623677209019661,0.0527045875787735,0.06020278111100197,0.06874087452888489,0.07828253507614136,0.08874637633562088,0.10000523924827576,0.11188630759716034,0.12417185306549072,0.13659809529781342,0.14885586500167847,0.16059093177318573,0.17154575884342194,0.18200995028018951,0.19180043041706085,0.20069943368434906,0.20853334665298462,0.21517206728458405,0.220529705286026,0.22456397116184235,0.22727645933628082,0.228712797164917,0.228962242603302,0.22815805673599243,0.22647735476493835,0.22413912415504456,0.2212284952402115,0.21760283410549164,0.21314285695552826,0.20776769518852234,0.20143535733222961,0.19414229691028595,0.18592381477355957,0.17684684693813324,0.16691997647285461,0.1562882661819458,0.14515383541584015,0.1337270587682724,0.12222740054130554,0.11088242381811142,0.09992872178554535,0.0896114781498909,0.08018409460783005,0.07190908491611481,0.06500839442014694,0.05941883474588394,0.054929956793785095,0.0512726753950119,0.048119619488716125,0.04515862464904785,0.04236626252532005],\"type\":\"scatter3d\"}],                        {\"template\":{\"data\":{\"histogram2dcontour\":[{\"type\":\"histogram2dcontour\",\"colorbar\":{\"outlinewidth\":0,\"ticks\":\"\"},\"colorscale\":[[0.0,\"#0d0887\"],[0.1111111111111111,\"#46039f\"],[0.2222222222222222,\"#7201a8\"],[0.3333333333333333,\"#9c179e\"],[0.4444444444444444,\"#bd3786\"],[0.5555555555555556,\"#d8576b\"],[0.6666666666666666,\"#ed7953\"],[0.7777777777777778,\"#fb9f3a\"],[0.8888888888888888,\"#fdca26\"],[1.0,\"#f0f921\"]]}],\"choropleth\":[{\"type\":\"choropleth\",\"colorbar\":{\"outlinewidth\":0,\"ticks\":\"\"}}],\"histogram2d\":[{\"type\":\"histogram2d\",\"colorbar\":{\"outlinewidth\":0,\"ticks\":\"\"},\"colorscale\":[[0.0,\"#0d0887\"],[0.1111111111111111,\"#46039f\"],[0.2222222222222222,\"#7201a8\"],[0.3333333333333333,\"#9c179e\"],[0.4444444444444444,\"#bd3786\"],[0.5555555555555556,\"#d8576b\"],[0.6666666666666666,\"#ed7953\"],[0.7777777777777778,\"#fb9f3a\"],[0.8888888888888888,\"#fdca26\"],[1.0,\"#f0f921\"]]}],\"heatmap\":[{\"type\":\"heatmap\",\"colorbar\":{\"outlinewidth\":0,\"ticks\":\"\"},\"colorscale\":[[0.0,\"#0d0887\"],[0.1111111111111111,\"#46039f\"],[0.2222222222222222,\"#7201a8\"],[0.3333333333333333,\"#9c179e\"],[0.4444444444444444,\"#bd3786\"],[0.5555555555555556,\"#d8576b\"],[0.6666666666666666,\"#ed7953\"],[0.7777777777777778,\"#fb9f3a\"],[0.8888888888888888,\"#fdca26\"],[1.0,\"#f0f921\"]]}],\"heatmapgl\":[{\"type\":\"heatmapgl\",\"colorbar\":{\"outlinewidth\":0,\"ticks\":\"\"},\"colorscale\":[[0.0,\"#0d0887\"],[0.1111111111111111,\"#46039f\"],[0.2222222222222222,\"#7201a8\"],[0.3333333333333333,\"#9c179e\"],[0.4444444444444444,\"#bd3786\"],[0.5555555555555556,\"#d8576b\"],[0.6666666666666666,\"#ed7953\"],[0.7777777777777778,\"#fb9f3a\"],[0.8888888888888888,\"#fdca26\"],[1.0,\"#f0f921\"]]}],\"contourcarpet\":[{\"type\":\"contourcarpet\",\"colorbar\":{\"outlinewidth\":0,\"ticks\":\"\"}}],\"contour\":[{\"type\":\"contour\",\"colorbar\":{\"outlinewidth\":0,\"ticks\":\"\"},\"colorscale\":[[0.0,\"#0d0887\"],[0.1111111111111111,\"#46039f\"],[0.2222222222222222,\"#7201a8\"],[0.3333333333333333,\"#9c179e\"],[0.4444444444444444,\"#bd3786\"],[0.5555555555555556,\"#d8576b\"],[0.6666666666666666,\"#ed7953\"],[0.7777777777777778,\"#fb9f3a\"],[0.8888888888888888,\"#fdca26\"],[1.0,\"#f0f921\"]]}],\"surface\":[{\"type\":\"surface\",\"colorbar\":{\"outlinewidth\":0,\"ticks\":\"\"},\"colorscale\":[[0.0,\"#0d0887\"],[0.1111111111111111,\"#46039f\"],[0.2222222222222222,\"#7201a8\"],[0.3333333333333333,\"#9c179e\"],[0.4444444444444444,\"#bd3786\"],[0.5555555555555556,\"#d8576b\"],[0.6666666666666666,\"#ed7953\"],[0.7777777777777778,\"#fb9f3a\"],[0.8888888888888888,\"#fdca26\"],[1.0,\"#f0f921\"]]}],\"mesh3d\":[{\"type\":\"mesh3d\",\"colorbar\":{\"outlinewidth\":0,\"ticks\":\"\"}}],\"scatter\":[{\"fillpattern\":{\"fillmode\":\"overlay\",\"size\":10,\"solidity\":0.2},\"type\":\"scatter\"}],\"parcoords\":[{\"type\":\"parcoords\",\"line\":{\"colorbar\":{\"outlinewidth\":0,\"ticks\":\"\"}}}],\"scatterpolargl\":[{\"type\":\"scatterpolargl\",\"marker\":{\"colorbar\":{\"outlinewidth\":0,\"ticks\":\"\"}}}],\"bar\":[{\"error_x\":{\"color\":\"#2a3f5f\"},\"error_y\":{\"color\":\"#2a3f5f\"},\"marker\":{\"line\":{\"color\":\"#E5ECF6\",\"width\":0.5},\"pattern\":{\"fillmode\":\"overlay\",\"size\":10,\"solidity\":0.2}},\"type\":\"bar\"}],\"scattergeo\":[{\"type\":\"scattergeo\",\"marker\":{\"colorbar\":{\"outlinewidth\":0,\"ticks\":\"\"}}}],\"scatterpolar\":[{\"type\":\"scatterpolar\",\"marker\":{\"colorbar\":{\"outlinewidth\":0,\"ticks\":\"\"}}}],\"histogram\":[{\"marker\":{\"pattern\":{\"fillmode\":\"overlay\",\"size\":10,\"solidity\":0.2}},\"type\":\"histogram\"}],\"scattergl\":[{\"type\":\"scattergl\",\"marker\":{\"colorbar\":{\"outlinewidth\":0,\"ticks\":\"\"}}}],\"scatter3d\":[{\"type\":\"scatter3d\",\"line\":{\"colorbar\":{\"outlinewidth\":0,\"ticks\":\"\"}},\"marker\":{\"colorbar\":{\"outlinewidth\":0,\"ticks\":\"\"}}}],\"scattermapbox\":[{\"type\":\"scattermapbox\",\"marker\":{\"colorbar\":{\"outlinewidth\":0,\"ticks\":\"\"}}}],\"scatterternary\":[{\"type\":\"scatterternary\",\"marker\":{\"colorbar\":{\"outlinewidth\":0,\"ticks\":\"\"}}}],\"scattercarpet\":[{\"type\":\"scattercarpet\",\"marker\":{\"colorbar\":{\"outlinewidth\":0,\"ticks\":\"\"}}}],\"carpet\":[{\"aaxis\":{\"endlinecolor\":\"#2a3f5f\",\"gridcolor\":\"white\",\"linecolor\":\"white\",\"minorgridcolor\":\"white\",\"startlinecolor\":\"#2a3f5f\"},\"baxis\":{\"endlinecolor\":\"#2a3f5f\",\"gridcolor\":\"white\",\"linecolor\":\"white\",\"minorgridcolor\":\"white\",\"startlinecolor\":\"#2a3f5f\"},\"type\":\"carpet\"}],\"table\":[{\"cells\":{\"fill\":{\"color\":\"#EBF0F8\"},\"line\":{\"color\":\"white\"}},\"header\":{\"fill\":{\"color\":\"#C8D4E3\"},\"line\":{\"color\":\"white\"}},\"type\":\"table\"}],\"barpolar\":[{\"marker\":{\"line\":{\"color\":\"#E5ECF6\",\"width\":0.5},\"pattern\":{\"fillmode\":\"overlay\",\"size\":10,\"solidity\":0.2}},\"type\":\"barpolar\"}],\"pie\":[{\"automargin\":true,\"type\":\"pie\"}]},\"layout\":{\"autotypenumbers\":\"strict\",\"colorway\":[\"#636efa\",\"#EF553B\",\"#00cc96\",\"#ab63fa\",\"#FFA15A\",\"#19d3f3\",\"#FF6692\",\"#B6E880\",\"#FF97FF\",\"#FECB52\"],\"font\":{\"color\":\"#2a3f5f\"},\"hovermode\":\"closest\",\"hoverlabel\":{\"align\":\"left\"},\"paper_bgcolor\":\"white\",\"plot_bgcolor\":\"#E5ECF6\",\"polar\":{\"bgcolor\":\"#E5ECF6\",\"angularaxis\":{\"gridcolor\":\"white\",\"linecolor\":\"white\",\"ticks\":\"\"},\"radialaxis\":{\"gridcolor\":\"white\",\"linecolor\":\"white\",\"ticks\":\"\"}},\"ternary\":{\"bgcolor\":\"#E5ECF6\",\"aaxis\":{\"gridcolor\":\"white\",\"linecolor\":\"white\",\"ticks\":\"\"},\"baxis\":{\"gridcolor\":\"white\",\"linecolor\":\"white\",\"ticks\":\"\"},\"caxis\":{\"gridcolor\":\"white\",\"linecolor\":\"white\",\"ticks\":\"\"}},\"coloraxis\":{\"colorbar\":{\"outlinewidth\":0,\"ticks\":\"\"}},\"colorscale\":{\"sequential\":[[0.0,\"#0d0887\"],[0.1111111111111111,\"#46039f\"],[0.2222222222222222,\"#7201a8\"],[0.3333333333333333,\"#9c179e\"],[0.4444444444444444,\"#bd3786\"],[0.5555555555555556,\"#d8576b\"],[0.6666666666666666,\"#ed7953\"],[0.7777777777777778,\"#fb9f3a\"],[0.8888888888888888,\"#fdca26\"],[1.0,\"#f0f921\"]],\"sequentialminus\":[[0.0,\"#0d0887\"],[0.1111111111111111,\"#46039f\"],[0.2222222222222222,\"#7201a8\"],[0.3333333333333333,\"#9c179e\"],[0.4444444444444444,\"#bd3786\"],[0.5555555555555556,\"#d8576b\"],[0.6666666666666666,\"#ed7953\"],[0.7777777777777778,\"#fb9f3a\"],[0.8888888888888888,\"#fdca26\"],[1.0,\"#f0f921\"]],\"diverging\":[[0,\"#8e0152\"],[0.1,\"#c51b7d\"],[0.2,\"#de77ae\"],[0.3,\"#f1b6da\"],[0.4,\"#fde0ef\"],[0.5,\"#f7f7f7\"],[0.6,\"#e6f5d0\"],[0.7,\"#b8e186\"],[0.8,\"#7fbc41\"],[0.9,\"#4d9221\"],[1,\"#276419\"]]},\"xaxis\":{\"gridcolor\":\"white\",\"linecolor\":\"white\",\"ticks\":\"\",\"title\":{\"standoff\":15},\"zerolinecolor\":\"white\",\"automargin\":true,\"zerolinewidth\":2},\"yaxis\":{\"gridcolor\":\"white\",\"linecolor\":\"white\",\"ticks\":\"\",\"title\":{\"standoff\":15},\"zerolinecolor\":\"white\",\"automargin\":true,\"zerolinewidth\":2},\"scene\":{\"xaxis\":{\"backgroundcolor\":\"#E5ECF6\",\"gridcolor\":\"white\",\"linecolor\":\"white\",\"showbackground\":true,\"ticks\":\"\",\"zerolinecolor\":\"white\",\"gridwidth\":2},\"yaxis\":{\"backgroundcolor\":\"#E5ECF6\",\"gridcolor\":\"white\",\"linecolor\":\"white\",\"showbackground\":true,\"ticks\":\"\",\"zerolinecolor\":\"white\",\"gridwidth\":2},\"zaxis\":{\"backgroundcolor\":\"#E5ECF6\",\"gridcolor\":\"white\",\"linecolor\":\"white\",\"showbackground\":true,\"ticks\":\"\",\"zerolinecolor\":\"white\",\"gridwidth\":2}},\"shapedefaults\":{\"line\":{\"color\":\"#2a3f5f\"}},\"annotationdefaults\":{\"arrowcolor\":\"#2a3f5f\",\"arrowhead\":0,\"arrowwidth\":1},\"geo\":{\"bgcolor\":\"white\",\"landcolor\":\"#E5ECF6\",\"subunitcolor\":\"white\",\"showland\":true,\"showlakes\":true,\"lakecolor\":\"white\"},\"title\":{\"x\":0.05},\"mapbox\":{\"style\":\"light\"}}}},                        {\"responsive\": true}                    ).then(function(){\n",
              "                            \n",
              "var gd = document.getElementById('44f9732a-021f-4d57-9a5e-de847b4e3fdc');\n",
              "var x = new MutationObserver(function (mutations, observer) {{\n",
              "        var display = window.getComputedStyle(gd).display;\n",
              "        if (!display || display === 'none') {{\n",
              "            console.log([gd, 'removed!']);\n",
              "            Plotly.purge(gd);\n",
              "            observer.disconnect();\n",
              "        }}\n",
              "}});\n",
              "\n",
              "// Listen for the removal of the full notebook cells\n",
              "var notebookContainer = gd.closest('#notebook-container');\n",
              "if (notebookContainer) {{\n",
              "    x.observe(notebookContainer, {childList: true});\n",
              "}}\n",
              "\n",
              "// Listen for the clearing of the current output cell\n",
              "var outputEl = gd.closest('.output');\n",
              "if (outputEl) {{\n",
              "    x.observe(outputEl, {childList: true});\n",
              "}}\n",
              "\n",
              "                        })                };                            </script>        </div>\n",
              "</body>\n",
              "</html>"
            ]
          },
          "metadata": {}
        }
      ],
      "source": [
        "# Position trajectory\n",
        "ys_act = jnp.copy(traj_load[:, 0, :])\n",
        "fig = go.Figure()\n",
        "# for ind_demo in range(n_D):\n",
        "ind_demo = 0 # which demonstration for the given task.\n",
        "ys_pred = model(ts, ys_act[ind_demo, 0]) # predicting only for the given demo\n",
        "fig.add_trace(go.Scatter3d(x=ys_act[ind_demo, :, 0], y=ys_act[ind_demo, :, 1], z=ys_act[ind_demo, :, 2], mode='lines',\n",
        "                          line=dict(color='gray', width=4)))\n",
        "fig.add_trace(go.Scatter3d(x=ys_act[ind_demo, :1, 0], y=ys_act[ind_demo, :1, 1], z=ys_act[ind_demo, :1, 2], mode='markers',\n",
        "                          line=dict(color='red', width=1)))\n",
        "fig.add_trace(go.Scatter3d(x=ys_act[ind_demo, -2:-1, 0], y=ys_act[ind_demo, -2:-1, 1], z=ys_act[ind_demo, -2:-1, 2], mode='markers',\n",
        "                          line=dict(color='blue', width=1)))\n",
        "\n",
        "# fig.add_trace(go.Scatter3d(x=ys_pred_act_all[ind_demo][:, 0], y=ys_pred_act_all[ind_demo][:, 1], z=ys_pred_act_all[ind_demo][:, 2], mode='lines',\n",
        "#                           line=dict(color='green', width=4)))\n",
        "\n",
        "# fig.add_trace(go.Scatter3d(x=ys_pred_all[ind_demo][:, 0], y=ys_pred_all[ind_demo][:, 1], z=ys_pred_all[ind_demo][:, 2], mode='lines',\n",
        "#                           line=dict(color='green', width=4)))\n",
        "\n",
        "fig.add_trace(go.Scatter3d(x=ys_pred[:, 0], y=ys_pred[:, 1], z=ys_pred[:, 2], mode='lines',\n",
        "                          line=dict(color='green', width=4)))\n",
        "\n",
        "fig.show()\n",
        "fig.write_html(\"position.html\")"
      ]
    },
    {
      "cell_type": "code",
      "execution_count": null,
      "metadata": {
        "id": "HoK93Yj-MRIC"
      },
      "outputs": [],
      "source": [
        "# Velocity profile\n",
        "ys_dot_pred = jax.vmap(model_load.func.mlp, in_axes=0)(ys_pred_all[ind_demo])*scaler_all_t_combine[ind_demo, split_i]\n",
        "ys_dot_act =  vel_all_combine_process[1, split_i, :, :3][jnp.newaxis, :]\n",
        "fig, axs = plt.subplots(1,3, figsize=(20,5))\n",
        "for i in range(3):\n",
        "  axs[i].plot(ys_dot_act[ind_demo, :, i], label='actual')\n",
        "  axs[i].plot(ys_dot_pred[:,i]*(minmax[i, 1] - minmax[i, 0]), label='predicted')\n",
        "plt.legend()"
      ]
    }
  ],
  "metadata": {
    "colab": {
      "collapsed_sections": [
        "onp9D-c70WLH",
        "e8-tsHBE0cyY",
        "wqfxnrt70v_Y",
        "97d3264c-2edc-465e-b61f-05125645e1df",
        "tewvNxrR03e2",
        "3Ha2cbzfF6Za",
        "YLl10_r6aVk8",
        "D1RO_IiqhqJo"
      ],
      "provenance": []
    },
    "kernelspec": {
      "display_name": "Python 3",
      "name": "python3"
    },
    "language_info": {
      "name": "python"
    }
  },
  "nbformat": 4,
  "nbformat_minor": 0
}
